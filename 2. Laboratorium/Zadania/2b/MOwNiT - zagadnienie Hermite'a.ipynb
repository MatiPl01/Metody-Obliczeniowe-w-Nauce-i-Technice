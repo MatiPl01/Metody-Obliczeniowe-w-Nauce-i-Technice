{
 "cells": [
  {
   "cell_type": "markdown",
   "id": "a3fb02ab",
   "metadata": {},
   "source": [
    "# Dane techniczne sprzętu"
   ]
  },
  {
   "cell_type": "markdown",
   "id": "c1b1950e",
   "metadata": {},
   "source": [
    "Obliczenia zostały wykonane na komputerze o następujących parametrach:\n",
    "\n",
    "- Procesor: AMD Ryzen $7$ $4700$U ($8$ rdzeni, $8$ wątków),\n",
    "\n",
    "- Pamięć RAM: $16$ GB $3200$ MHz"
   ]
  },
  {
   "cell_type": "markdown",
   "id": "80b7771a",
   "metadata": {},
   "source": [
    "# Biblioteki"
   ]
  },
  {
   "cell_type": "code",
   "execution_count": 2,
   "id": "b9d8c2fd",
   "metadata": {},
   "outputs": [],
   "source": [
    "import math\n",
    "import numpy as np\n",
    "import pandas as pd\n",
    "from matplotlib import pyplot as plt\n",
    "import seaborn as sns\n",
    "from tabulate import tabulate\n",
    "from sympy import Symbol, lambdify, sin"
   ]
  },
  {
   "cell_type": "markdown",
   "id": "48777562",
   "metadata": {},
   "source": [
    "# Pomocnicze funkcje"
   ]
  },
  {
   "cell_type": "code",
   "execution_count": 3,
   "id": "7bfe3504",
   "metadata": {},
   "outputs": [],
   "source": [
    "def plot_fn(fn, min_x, max_x, *, label='', title='Plot', color='b', step=.1, ax=plt):\n",
    "    xs = np.arange(min_x, max_x, step)\n",
    "    ax.plot(xs, [fn(x) for x in xs], color, label=label)\n",
    "    if label: ax.legend(loc='best')\n",
    "    \n",
    "    if ax is plt:\n",
    "        ax.title(title)\n",
    "        ax.xlabel('x')\n",
    "        ax.ylabel('y')\n",
    "    else:\n",
    "        ax.title.set_text(title)\n",
    "        ax.set_xlabel('x')\n",
    "        ax.set_ylabel('y')\n",
    "    ax.grid()\n",
    "    \n",
    "    sns.despine()\n",
    "    \n",
    "def chebyshev_nodes(a, b, n):\n",
    "    xs = []\n",
    "    for k in range(n, 0, -1):\n",
    "        xs.append(.5 * (a + b) + .5 * (b - a) * math.cos((2 * k - 1) / (2 * n) * math.pi))\n",
    "    return xs"
   ]
  },
  {
   "cell_type": "markdown",
   "id": "294e64bc",
   "metadata": {},
   "source": [
    "## Wyznaczanie węzłów zgodnie z zerami wielomianu Czebyszewa"
   ]
  },
  {
   "cell_type": "code",
   "execution_count": 4,
   "id": "645d6264",
   "metadata": {},
   "outputs": [],
   "source": [
    "def chebyshev_nodes(a, b, n):\n",
    "    xs = []\n",
    "    for k in range(n, 0, -1):\n",
    "        xs.append(.5 * (a + b) + .5 * (b - a) * math.cos((2 * k - 1) / (2 * n) * math.pi))\n",
    "    return xs"
   ]
  },
  {
   "cell_type": "markdown",
   "id": "377ee04b",
   "metadata": {},
   "source": [
    "# Interpolacja Hermite'a"
   ]
  },
  {
   "cell_type": "code",
   "execution_count": 5,
   "id": "e60df176",
   "metadata": {},
   "outputs": [],
   "source": [
    "def memoized(fn):\n",
    "    cache = {}\n",
    "\n",
    "    def inner(arg):\n",
    "        if arg not in cache:\n",
    "            cache[arg] = fn(arg)\n",
    "        return cache[arg]\n",
    "        \n",
    "    return inner\n",
    "\n",
    "@memoized\n",
    "def factorial(n):\n",
    "    if n in {0, 1}: return 1\n",
    "    return n * factorial(n - 1)\n",
    "\n",
    "def hermite(xs: list[int], ys: list[list[int]]):\n",
    "    ms = [len(y_list) for y_list in ys]\n",
    "    n = sum(ms)\n",
    "    \n",
    "    xs_ = []\n",
    "    for i in range(len(xs)):\n",
    "        xs_.extend([xs[i]] * ms[i])\n",
    "    \n",
    "    # Create a matrix of coefficients\n",
    "    bs = [[None] * n for _ in range(n)]\n",
    "    \n",
    "    # Fill a matrix with known values\n",
    "    i = 0\n",
    "    for y_list in ys:\n",
    "        for j in range(len(y_list)):\n",
    "            for k in range(j + 1):\n",
    "                bs[i][k] = y_list[k] / factorial(k)\n",
    "            i += 1\n",
    "            \n",
    "    # Fill the remaining triangular part of a matrix\n",
    "    for j in range(1, n):\n",
    "        for i in range(j, n):\n",
    "            if bs[i][j] is not None: \n",
    "                continue\n",
    "            bs[i][j] = (bs[i][j - 1] - bs[i - 1][j - 1]) / (xs_[i] - xs_[i - j])\n",
    "            \n",
    "    # Rewrite coefficients to the linear array\n",
    "    bs_ = [bs[i][i] for i in range(n)]\n",
    "    \n",
    "    # Create and return interpolating function\n",
    "    def f(x):\n",
    "        x_diffs = [1] + [x - xs_[i] for i in range(n - 1)]\n",
    "        \n",
    "        y = 0\n",
    "        x_coeff = 1\n",
    "        for bi, x_diff in zip(bs_, x_diffs):\n",
    "            x_coeff *= x_diff\n",
    "            y += bi * x_coeff\n",
    "            \n",
    "        return y\n",
    "            \n",
    "    return f"
   ]
  },
  {
   "cell_type": "code",
   "execution_count": 6,
   "id": "ec001672",
   "metadata": {},
   "outputs": [
    {
     "data": {
      "text/plain": [
       "<function __main__.hermite.<locals>.f(x)>"
      ]
     },
     "execution_count": 6,
     "metadata": {},
     "output_type": "execute_result"
    }
   ],
   "source": [
    "hermite([1, 2], [[1, 4], [3, 1, 1]])"
   ]
  },
  {
   "cell_type": "markdown",
   "id": "3e55e94a",
   "metadata": {},
   "source": [
    "# Zadania"
   ]
  },
  {
   "cell_type": "markdown",
   "id": "de877de3",
   "metadata": {},
   "source": [
    "## Interpolowana funkcja"
   ]
  },
  {
   "cell_type": "markdown",
   "id": "cc869772",
   "metadata": {},
   "source": [
    "### Wzór funkcji"
   ]
  },
  {
   "cell_type": "markdown",
   "id": "079526f3",
   "metadata": {},
   "source": [
    "$\\Large{f(x)=e^{-k\\cdot{sin(mx)}}+k\\cdot{sin(mx)}-1}$\n",
    "\n",
    "gdzie $k=2$, $m=2$, $x\\in[-\\pi,2\\pi]$"
   ]
  },
  {
   "cell_type": "code",
   "execution_count": 7,
   "id": "99175556",
   "metadata": {},
   "outputs": [],
   "source": [
    "f = lambda x, k, m: math.e ** (-k * math.sin(m * x)) + k * math.sin(m * x) - 1"
   ]
  },
  {
   "cell_type": "code",
   "execution_count": 8,
   "id": "2fd2fbc6",
   "metadata": {},
   "outputs": [],
   "source": [
    "k = 2\n",
    "m = 2\n",
    "a = -math.pi\n",
    "b = 2 * math.pi\n",
    "x = [a, b]\n",
    "\n",
    "g = lambda x: f(x, k, m)"
   ]
  },
  {
   "cell_type": "markdown",
   "id": "7c0b90ea",
   "metadata": {},
   "source": [
    "### Wykres funkcji"
   ]
  },
  {
   "cell_type": "code",
   "execution_count": 9,
   "id": "8000f394",
   "metadata": {
    "scrolled": false
   },
   "outputs": [
    {
     "data": {
      "image/png": "[encoded data removed]",
      "text/plain": [
       "<Figure size 1080x360 with 1 Axes>"
      ]
     },
     "metadata": {
      "needs_background": "light"
     },
     "output_type": "display_data"
    }
   ],
   "source": [
    "plt.figure(figsize=(15, 5))\n",
    "plot_fn(g, a, b, step=.01)\n",
    "plt.show()"
   ]
  },
  {
   "cell_type": "markdown",
   "id": "ffaca7bc",
   "metadata": {},
   "source": [
    "## Dokładność przybliżenia funkcji interpolowanej przez wielomian interpolujący "
   ]
  },
  {
   "cell_type": "markdown",
   "id": "ddd86fc3",
   "metadata": {},
   "source": [
    "Przyjmijmy następujące oznaczenia:\n",
    "\n",
    "$f(x)$ - interpolowana funkcja (funkcja wzorcowa)\n",
    "\n",
    "$W(x)$ - wielomian interpolujący (przybliżający funkcję wzorcową)"
   ]
  },
  {
   "cell_type": "markdown",
   "id": "9d5d976e",
   "metadata": {},
   "source": [
    "### Norma z różnicy"
   ]
  },
  {
   "cell_type": "markdown",
   "id": "5be960eb",
   "metadata": {},
   "source": [
    "$||f(x)-W(x)||$"
   ]
  },
  {
   "cell_type": "code",
   "execution_count": 10,
   "id": "0c96476c",
   "metadata": {},
   "outputs": [],
   "source": [
    "def abs_diff(f, W, xs):\n",
    "    return [abs(f(x) - W(x)) for x in xs]"
   ]
  },
  {
   "cell_type": "markdown",
   "id": "63844faf",
   "metadata": {},
   "source": [
    "### Największa różnica"
   ]
  },
  {
   "cell_type": "markdown",
   "id": "8162e3e1",
   "metadata": {},
   "source": [
    "$max_k\\{||f(x_k)-W(x_k)||\\}$"
   ]
  },
  {
   "cell_type": "code",
   "execution_count": 11,
   "id": "a3ff6884",
   "metadata": {},
   "outputs": [],
   "source": [
    "def max_diff(f, W, xs):\n",
    "    return max(abs_diff(f, W, xs))"
   ]
  },
  {
   "cell_type": "markdown",
   "id": "e5fc46f9",
   "metadata": {},
   "source": [
    "### Suma kwadratów różnic"
   ]
  },
  {
   "cell_type": "markdown",
   "id": "be9fa270",
   "metadata": {},
   "source": [
    "$\\sum\\limits_{i = 1}^{N} (f(x_i) - W(x_i))^2$"
   ]
  },
  {
   "cell_type": "code",
   "execution_count": 12,
   "id": "d3420162",
   "metadata": {},
   "outputs": [],
   "source": [
    "def sum_sq_diff(f, W, xs):\n",
    "    return sum(d ** 2 for d in abs_diff(f, W, xs))"
   ]
  },
  {
   "cell_type": "markdown",
   "id": "dc367c03",
   "metadata": {},
   "source": [
    "## Interpolacja"
   ]
  },
  {
   "cell_type": "markdown",
   "id": "71721c8f",
   "metadata": {},
   "source": [
    "### Pomocnicze funkcje"
   ]
  },
  {
   "cell_type": "markdown",
   "id": "9f42f000",
   "metadata": {},
   "source": [
    "###### Wykresy"
   ]
  },
  {
   "cell_type": "code",
   "execution_count": 13,
   "id": "264c3539",
   "metadata": {},
   "outputs": [],
   "source": [
    "def plot_interpolation(f, xs, ys, N=1000):\n",
    "    W = hermite(xs, ys)\n",
    "    \n",
    "    fig, ax = plt.subplots(1, 2, figsize=(15, 4))\n",
    "    \n",
    "    # Compare interpolation polynomial to the original function\n",
    "    plot_fn(f, a, b, step=.01, color='#777', label='f', ax=ax[0])\n",
    "    plot_fn(W, a, b, step=.01, label='Hermite\\'s', title='Interpolation plot', ax=ax[0])\n",
    "    \n",
    "    # Create errors plot\n",
    "    xs_ = np.linspace(a, b, N)\n",
    "    diffs = abs_diff(f, W, xs_)\n",
    "    ax[1].scatter(xs_, diffs)\n",
    "    \n",
    "    ax[0].scatter(xs, [y_list[0] for y_list in ys])\n",
    "    plt.show()"
   ]
  },
  {
   "cell_type": "markdown",
   "id": "25f91c43",
   "metadata": {},
   "source": [
    "###### Wyznaczanie funkcji pochodnych"
   ]
  },
  {
   "cell_type": "code",
   "execution_count": 14,
   "id": "8ac94b19",
   "metadata": {},
   "outputs": [],
   "source": [
    "from math import e\n",
    "x = Symbol('x')\n",
    "g0_ = e**(-2*sin(2*x))+2*sin(2*x)-1\n",
    "g1_ = g0_.diff(x)\n",
    "g2_ = g1_.diff(x \n",
    "g3_ = g2_.diff(x)\n",
    "\n",
    "# Create callable functions from g1, g2, g3 objects\n",
    "g1 = lambdify(x, g1_)\n",
    "g2 = lambdify(x, g2_)\n",
    "g3 = lambdify(x, g3_)\n",
    "gs = [g, g1, g2, g3]"
   ]
  },
  {
   "cell_type": "markdown",
   "id": "232301d3",
   "metadata": {},
   "source": [
    "###### Funkcja g (zerowa pochodna)"
   ]
  },
  {
   "cell_type": "code",
   "execution_count": 15,
   "id": "418eff3f",
   "metadata": {},
   "outputs": [
    {
     "data": {
      "text/latex": [
       "$\\displaystyle 2 \\sin{\\left(2 x \\right)} - 1 + 2.71828182845905^{- 2 \\sin{\\left(2 x \\right)}}$"
      ],
      "text/plain": [
       "2*sin(2*x) - 1 + 2.71828182845905**(-2*sin(2*x))"
      ]
     },
     "execution_count": 15,
     "metadata": {},
     "output_type": "execute_result"
    }
   ],
   "source": [
    "g0_"
   ]
  },
  {
   "cell_type": "markdown",
   "id": "8484b2d2",
   "metadata": {},
   "source": [
    "###### Funkcja g1 (pierwsza pochodna)"
   ]
  },
  {
   "cell_type": "code",
   "execution_count": 16,
   "id": "e06dd151",
   "metadata": {},
   "outputs": [
    {
     "data": {
      "text/latex": [
       "$\\displaystyle 4 \\cos{\\left(2 x \\right)} - 4.0 \\cdot 2.71828182845905^{- 2 \\sin{\\left(2 x \\right)}} \\cos{\\left(2 x \\right)}$"
      ],
      "text/plain": [
       "4*cos(2*x) - 4.0*cos(2*x)/2.71828182845905**(2*sin(2*x))"
      ]
     },
     "execution_count": 16,
     "metadata": {},
     "output_type": "execute_result"
    }
   ],
   "source": [
    "g1_"
   ]
  },
  {
   "cell_type": "markdown",
   "id": "6eb36d1e",
   "metadata": {},
   "source": [
    "###### Funkcja g2 (druga pochodna)"
   ]
  },
  {
   "cell_type": "code",
   "execution_count": 17,
   "id": "ae846edb",
   "metadata": {},
   "outputs": [
    {
     "data": {
      "text/latex": [
       "$\\displaystyle - 8 \\sin{\\left(2 x \\right)} + 8.0 \\cdot 2.71828182845905^{- 2 \\sin{\\left(2 x \\right)}} \\sin{\\left(2 x \\right)} + 16.0 \\cdot 2.71828182845905^{- 2 \\sin{\\left(2 x \\right)}} \\cos^{2}{\\left(2 x \\right)}$"
      ],
      "text/plain": [
       "-8*sin(2*x) + 8.0*sin(2*x)/2.71828182845905**(2*sin(2*x)) + 16.0*cos(2*x)**2/2.71828182845905**(2*sin(2*x))"
      ]
     },
     "execution_count": 17,
     "metadata": {},
     "output_type": "execute_result"
    }
   ],
   "source": [
    "g2_"
   ]
  },
  {
   "cell_type": "markdown",
   "id": "d45877f1",
   "metadata": {},
   "source": [
    "###### Funkcja g3 (trzecia pochodna)"
   ]
  },
  {
   "cell_type": "code",
   "execution_count": 18,
   "id": "6aa91ed4",
   "metadata": {},
   "outputs": [
    {
     "data": {
      "text/latex": [
       "$\\displaystyle - 16 \\cos{\\left(2 x \\right)} - 96.0 \\cdot 2.71828182845905^{- 2 \\sin{\\left(2 x \\right)}} \\sin{\\left(2 x \\right)} \\cos{\\left(2 x \\right)} - 64.0 \\cdot 2.71828182845905^{- 2 \\sin{\\left(2 x \\right)}} \\cos^{3}{\\left(2 x \\right)} + 16.0 \\cdot 2.71828182845905^{- 2 \\sin{\\left(2 x \\right)}} \\cos{\\left(2 x \\right)}$"
      ],
      "text/plain": [
       "-16*cos(2*x) - 96.0*sin(2*x)*cos(2*x)/2.71828182845905**(2*sin(2*x)) - 64.0*cos(2*x)**3/2.71828182845905**(2*sin(2*x)) + 16.0*cos(2*x)/2.71828182845905**(2*sin(2*x))"
      ]
     },
     "execution_count": 18,
     "metadata": {},
     "output_type": "execute_result"
    }
   ],
   "source": [
    "g3_"
   ]
  },
  {
   "cell_type": "markdown",
   "id": "fd6e8e64",
   "metadata": {},
   "source": [
    "###### Pozostałe"
   ]
  },
  {
   "cell_type": "code",
   "execution_count": 19,
   "id": "2ebd6f1e",
   "metadata": {},
   "outputs": [],
   "source": [
    "def derivatives(x, n):\n",
    "    return list(map(lambda g: g(x), gs[:n+1]))"
   ]
  },
  {
   "cell_type": "markdown",
   "id": "37b22f4d",
   "metadata": {},
   "source": [
    "### Przykłady"
   ]
  },
  {
   "cell_type": "code",
   "execution_count": 24,
   "id": "dda8f026",
   "metadata": {},
   "outputs": [
    {
     "name": "stdout",
     "output_type": "stream",
     "text": [
      "[0.9557061369255526, -2.7828834014142494, -3.101277512602074, 4.439516976538828, 5.309385865134698, 2.185886516664242, 3.3741495164479356, 6.242870166191867, -1.2979243229490351]\n"
     ]
    },
    {
     "data": {
      "image/png": "[encoded data removed]",
      "text/plain": [
       "<Figure size 1080x288 with 2 Axes>"
      ]
     },
     "metadata": {
      "needs_background": "light"
     },
     "output_type": "display_data"
    }
   ],
   "source": [
    "from random import randint, sample, seed\n",
    "\n",
    "n = 12\n",
    "xs = chebyshev_nodes(a, b, n)\n",
    "xs_ = sample(xs, int(n * .75))\n",
    "print(xs_)\n",
    "ds = [randint(0, 1) for _ in range(len(xs_))] # Derivatives order\n",
    "\n",
    "ys = [derivatives(x, d) for x, d in zip(xs_, ds)]\n",
    "\n",
    "plot_interpolation(g, xs_, ys)"
   ]
  }
 ],
 "metadata": {
  "kernelspec": {
   "display_name": "Python 3 (ipykernel)",
   "language": "python",
   "name": "python3"
  },
  "language_info": {
   "codemirror_mode": {
    "name": "ipython",
    "version": 3
   },
   "file_extension": ".py",
   "mimetype": "text/x-python",
   "name": "python",
   "nbconvert_exporter": "python",
   "pygments_lexer": "ipython3",
   "version": "3.10.0"
  }
 },
 "nbformat": 4,
 "nbformat_minor": 5
}
