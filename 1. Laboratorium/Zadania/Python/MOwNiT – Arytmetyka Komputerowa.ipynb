{
 "cells": [
  {
   "cell_type": "markdown",
   "id": "e06af821",
   "metadata": {},
   "source": [
    "# Treść zadania"
   ]
  },
  {
   "cell_type": "markdown",
   "id": "ec406968",
   "metadata": {},
   "source": [
    "W dokładnej arytmetyce ciąg $x_{k+1}=111-(1130-3000/x_{k-1})/x_k$ $x_0=11/2$, $x_1=61/11$ jest rosnący i zbieżny do 6. Obliczyć na swoim komputerze $x_{34}$ (dla zmiennych typu *float*, *double*, *long double*) i spróbować wyjaśnić uzyskane wyniki. Dokładna wartość (zaokrąglona do $4$ cyfr znaczących) jest równa $x_{34}=5.998$."
   ]
  },
  {
   "cell_type": "markdown",
   "id": "890237bd",
   "metadata": {},
   "source": [
    "# Przygotowanie"
   ]
  },
  {
   "cell_type": "markdown",
   "id": "cba54d88",
   "metadata": {},
   "source": [
    "## Przyjęte oznaczenia"
   ]
  },
  {
   "cell_type": "markdown",
   "id": "ac206b98",
   "metadata": {},
   "source": [
    "W wykorzystywanym kodzie przyjmuję następujące oznaczenia:\n",
    "\n",
    "$x_{k+1}$ - ```f(x_k, x_prev)```\n",
    "\n",
    "$x_k$ - ```x_k```\n",
    "\n",
    "$x_{k-1}$ - ```x_prev```"
   ]
  },
  {
   "cell_type": "markdown",
   "id": "e301380c",
   "metadata": {},
   "source": [
    "## Biblioteki"
   ]
  },
  {
   "cell_type": "markdown",
   "id": "7a1a9436",
   "metadata": {},
   "source": [
    "W celu uzyskania wysokiej precyzji obliczeń, z wykorzystaniem liczb zmiennoprzecinkowych, posłużę się dostarczoną wraz z Pythonem biblioteką ```decimal``` oraz biblioteką ```fractions```.\n",
    "\n",
    "Do stworzenia wykresów, wykorzystuję biblioteki ```matplotlib``` oraz ```seaborn```. W celu łatwiejszego przetwarzania danych, korzystam z bibilioteki ```pandas```. "
   ]
  },
  {
   "cell_type": "code",
   "execution_count": 1,
   "id": "92cff62b",
   "metadata": {},
   "outputs": [],
   "source": [
    "import decimal\n",
    "from decimal import Decimal\n",
    "from fractions import Fraction\n",
    "\n",
    "import pandas as pd\n",
    "from matplotlib import pyplot as plt\n",
    "import matplotlib.ticker as mticker\n",
    "import seaborn as sns"
   ]
  },
  {
   "cell_type": "markdown",
   "id": "b3730c6b",
   "metadata": {},
   "source": [
    "## Obliczenia"
   ]
  },
  {
   "cell_type": "code",
   "execution_count": 2,
   "id": "bf393e8f",
   "metadata": {},
   "outputs": [],
   "source": [
    "df = pd.DataFrame()"
   ]
  },
  {
   "cell_type": "markdown",
   "id": "a2012b29",
   "metadata": {},
   "source": [
    "### C++"
   ]
  },
  {
   "cell_type": "markdown",
   "id": "a631d039",
   "metadata": {},
   "source": [
    "Program ```main.cpp```, przy pomocy którego dokonałem obliczeń w języku C++, dołączony jest wraz z plikami rozwiązania zadania."
   ]
  },
  {
   "cell_type": "markdown",
   "id": "d5f76b1b",
   "metadata": {},
   "source": [
    "#### Float (4 bajty)"
   ]
  },
  {
   "cell_type": "markdown",
   "id": "909d5ee6",
   "metadata": {},
   "source": [
    "Znak: $1$ bit\n",
    "\n",
    "Mantysa: $23$ bity\n",
    "\n",
    "Wykładnik: $8$ bitów (zakres: $[-127, 128]$)\n",
    "\n",
    "Dokładność: $6-7$ cyfr znaczących (max: $8388608$)"
   ]
  },
  {
   "cell_type": "markdown",
   "id": "d421ebce",
   "metadata": {},
   "source": [
    "**Wyniki obliczeń**"
   ]
  },
  {
   "cell_type": "code",
   "execution_count": 3,
   "id": "5bd6120e",
   "metadata": {
    "scrolled": true
   },
   "outputs": [
    {
     "name": "stdout",
     "output_type": "stream",
     "text": [
      "x_k = 100\n",
      "\n",
      "All subsequent numbers:\n",
      "x_0 = 5.500000\n",
      "x_1 = 5.545455\n",
      "x_2 = 5.590157\n",
      "x_3 = 5.633286\n",
      "x_4 = 5.672050\n",
      "x_5 = 5.667526\n",
      "x_6 = 4.941246\n",
      "x_7 = -10.562157\n",
      "x_8 = 160.503693\n",
      "x_9 = 102.190025\n",
      "x_10 = 100.125076\n",
      "x_11 = 100.007317\n",
      "x_12 = 100.000427\n",
      "x_13 = 100.000023\n",
      "x_14 = 100.000000\n",
      "x_15 = 100.000000\n",
      "x_16 = 100.000000\n",
      "x_17 = 100.000000\n",
      "x_18 = 100.000000\n",
      "x_19 = 100.000000\n",
      "x_20 = 100.000000\n",
      "x_21 = 100.000000\n",
      "x_22 = 100.000000\n",
      "x_23 = 100.000000\n",
      "x_24 = 100.000000\n",
      "x_25 = 100.000000\n",
      "x_26 = 100.000000\n",
      "x_27 = 100.000000\n",
      "x_28 = 100.000000\n",
      "x_29 = 100.000000\n",
      "x_30 = 100.000000\n",
      "x_31 = 100.000000\n",
      "x_32 = 100.000000\n",
      "x_33 = 100.000000\n",
      "x_34 = 100.000000\n"
     ]
    }
   ],
   "source": [
    "all_to_k = [\n",
    "    5.5,5.545454502105713,5.590156555175781,5.633285522460938,5.672050476074219,\n",
    "    5.667526245117188,4.941246032714844,-10.56215667724609,160.5036926269531,\n",
    "    102.1900253295898,100.1250762939453,100.0073165893555,100.0004272460938,\n",
    "    100.0000228881836,100,100,100,100,100,100,100,100,100,100,100,100,100,100,\n",
    "    100,100,100,100,100,100,100\n",
    "]\n",
    "\n",
    "print('x_k =', all_to_k[-1])\n",
    "print('\\nAll subsequent numbers:')\n",
    "print(*(f'x_{i} = {v:.6f}' for i, v in enumerate(all_to_k)), sep='\\n')"
   ]
  },
  {
   "cell_type": "markdown",
   "id": "fdaea32a",
   "metadata": {},
   "source": [
    "**Zapisywanie wartości do porównania**"
   ]
  },
  {
   "cell_type": "code",
   "execution_count": 4,
   "id": "6d67b4a6",
   "metadata": {},
   "outputs": [],
   "source": [
    "df['C++ float'] = all_to_k"
   ]
  },
  {
   "cell_type": "markdown",
   "id": "6e78e222",
   "metadata": {},
   "source": [
    "#### Double (8 bajtów)"
   ]
  },
  {
   "cell_type": "markdown",
   "id": "5fe7184b",
   "metadata": {},
   "source": [
    "Znak: $1$ bit\n",
    "\n",
    "Mantysa: $52$ bity\n",
    "\n",
    "Wykładnik: $11$ bitów (zakres: $[-1023, 1024]$)\n",
    "\n",
    "Dokładność: $15-16$ cyfr znaczących (max: $4503599627370496$)"
   ]
  },
  {
   "cell_type": "code",
   "execution_count": 5,
   "id": "dbcb9994",
   "metadata": {},
   "outputs": [
    {
     "name": "stdout",
     "output_type": "stream",
     "text": [
      "x_k = 100\n",
      "\n",
      "All subsequent numbers:\n",
      "x_0 = 5.500000\n",
      "x_1 = 5.545455\n",
      "x_2 = 5.590164\n",
      "x_3 = 5.633431\n",
      "x_4 = 5.674649\n",
      "x_5 = 5.713329\n",
      "x_6 = 5.749121\n",
      "x_7 = 5.781811\n",
      "x_8 = 5.811315\n",
      "x_9 = 5.837664\n",
      "x_10 = 5.861078\n",
      "x_11 = 5.883543\n",
      "x_12 = 5.935957\n",
      "x_13 = 6.534422\n",
      "x_14 = 15.413043\n",
      "x_15 = 67.472398\n",
      "x_16 = 97.137151\n",
      "x_17 = 99.824694\n",
      "x_18 = 99.989540\n",
      "x_19 = 99.999376\n",
      "x_20 = 99.999963\n",
      "x_21 = 99.999998\n",
      "x_22 = 100.000000\n",
      "x_23 = 100.000000\n",
      "x_24 = 100.000000\n",
      "x_25 = 100.000000\n",
      "x_26 = 100.000000\n",
      "x_27 = 100.000000\n",
      "x_28 = 100.000000\n",
      "x_29 = 100.000000\n",
      "x_30 = 100.000000\n",
      "x_31 = 100.000000\n",
      "x_32 = 100.000000\n",
      "x_33 = 100.000000\n",
      "x_34 = 100.000000\n"
     ]
    }
   ],
   "source": [
    "all_to_k = [\n",
    "    5.5,5.545454545454546,5.590163934426243,5.633431085044251,5.674648620514802,\n",
    "    5.713329052462441,5.74912092113604,5.781810945409518,5.81131466923334,\n",
    "    5.83766396240722,5.861078484508624,5.883542934069212,5.935956716634138,\n",
    "    6.534421641135182,15.41304318084583,67.47239836474625,97.13715118465481,\n",
    "    99.82469414672073,99.98953968869486,99.9993761416421,99.99996275956511,\n",
    "    99.99999777513808,99.99999986698653,99.9999999920431,99.99999999952378,\n",
    "    99.99999999997149,99.99999999999829,99.9999999999999,100,100,100,100,100,\n",
    "    100,100\n",
    "]\n",
    "\n",
    "print('x_k =', all_to_k[-1])\n",
    "print('\\nAll subsequent numbers:')\n",
    "print(*(f'x_{i} = {v:.6f}' for i, v in enumerate(all_to_k)), sep='\\n')"
   ]
  },
  {
   "cell_type": "markdown",
   "id": "3ed448d1",
   "metadata": {},
   "source": [
    "**Zapisywanie wartości do porównania**"
   ]
  },
  {
   "cell_type": "code",
   "execution_count": 6,
   "id": "cda7c167",
   "metadata": {},
   "outputs": [],
   "source": [
    "df['C++ double'] = all_to_k"
   ]
  },
  {
   "cell_type": "markdown",
   "id": "4c572f29",
   "metadata": {},
   "source": [
    "#### Long double (16 bajtów)"
   ]
  },
  {
   "cell_type": "markdown",
   "id": "dd7886bc",
   "metadata": {},
   "source": [
    "Znak: $1$ bit\n",
    "\n",
    "Mantysa: $64$ bity\n",
    "\n",
    "Dokładność: $19-20$ cyfr znaczących (max: $18446744073709551616$)"
   ]
  },
  {
   "cell_type": "markdown",
   "id": "2090618d",
   "metadata": {},
   "source": [
    "Dokładność powinna być większa niż w przypadku typu ```double```, jednakże, mimo zajmowania przez zmienne typu ```long double``` $16$ bajtów pamięci, nie zauważyłem zwiększonej precyzji obliczeń. Wyniki są identyczne do tych, które otrzymałem dla zmiennych typu ```double```."
   ]
  },
  {
   "cell_type": "code",
   "execution_count": 7,
   "id": "00703e41",
   "metadata": {
    "scrolled": true
   },
   "outputs": [
    {
     "name": "stdout",
     "output_type": "stream",
     "text": [
      "x_k = 100\n",
      "\n",
      "All subsequent numbers:\n",
      "x_0 = 5.500000\n",
      "x_1 = 5.545455\n",
      "x_2 = 5.590164\n",
      "x_3 = 5.633431\n",
      "x_4 = 5.674649\n",
      "x_5 = 5.713329\n",
      "x_6 = 5.749121\n",
      "x_7 = 5.781811\n",
      "x_8 = 5.811315\n",
      "x_9 = 5.837664\n",
      "x_10 = 5.861078\n",
      "x_11 = 5.883543\n",
      "x_12 = 5.935957\n",
      "x_13 = 6.534422\n",
      "x_14 = 15.413043\n",
      "x_15 = 67.472398\n",
      "x_16 = 97.137151\n",
      "x_17 = 99.824694\n",
      "x_18 = 99.989540\n",
      "x_19 = 99.999376\n",
      "x_20 = 99.999963\n",
      "x_21 = 99.999998\n",
      "x_22 = 100.000000\n",
      "x_23 = 100.000000\n",
      "x_24 = 100.000000\n",
      "x_25 = 100.000000\n",
      "x_26 = 100.000000\n",
      "x_27 = 100.000000\n",
      "x_28 = 100.000000\n",
      "x_29 = 100.000000\n",
      "x_30 = 100.000000\n",
      "x_31 = 100.000000\n",
      "x_32 = 100.000000\n",
      "x_33 = 100.000000\n",
      "x_34 = 100.000000\n"
     ]
    }
   ],
   "source": [
    "all_to_k = [\n",
    "    5.5,5.545454545454545,5.590163934426243,5.633431085044251,5.674648620514802,\n",
    "    5.713329052462441,5.74912092113604,5.781810945409518,5.81131466923334,\n",
    "    5.83766396240722,5.861078484508624,5.883542934069212,5.935956716634138,\n",
    "    6.534421641135182,15.41304318084583,67.47239836474625,97.13715118465481,\n",
    "    99.82469414672073,99.98953968869486,99.9993761416421,99.99996275956511,\n",
    "    99.99999777513808,99.99999986698653,99.9999999920431,99.99999999952378,\n",
    "    99.99999999997149,99.99999999999829,99.9999999999999,100,100,100,100,100,\n",
    "    100,100\n",
    "]\n",
    "\n",
    "print('x_k =', all_to_k[-1])\n",
    "print('\\nAll subsequent numbers:')\n",
    "print(*(f'x_{i} = {v:.6f}' for i, v in enumerate(all_to_k)), sep='\\n')"
   ]
  },
  {
   "cell_type": "markdown",
   "id": "711e1ad2",
   "metadata": {},
   "source": [
    "**Zapisywanie wartości do porównania**"
   ]
  },
  {
   "cell_type": "code",
   "execution_count": 8,
   "id": "d7367213",
   "metadata": {},
   "outputs": [],
   "source": [
    "df['C++ long double'] = all_to_k"
   ]
  },
  {
   "cell_type": "markdown",
   "id": "fa9433ee",
   "metadata": {},
   "source": [
    "### Python"
   ]
  },
  {
   "cell_type": "code",
   "execution_count": 9,
   "id": "229163d9",
   "metadata": {},
   "outputs": [],
   "source": [
    "def calc_next_x(x_prev, x_curr):\n",
    "    return 111 - (1130 - 3000 / x_prev) / x_curr\n",
    "\n",
    "def calc_x_k(k, x_0, x_1):\n",
    "    if k == 0: return x_0\n",
    "    if k == 1: return x_1\n",
    "\n",
    "    x_prev = x_0\n",
    "    x_curr = x_1\n",
    "\n",
    "    for i in range(2, k + 1):\n",
    "        x_prev, x_curr = x_curr, calc_next_x(x_prev, x_curr)\n",
    "\n",
    "    return x_curr\n",
    "\n",
    "def calc_all_to_k(k, x_0, x_1):\n",
    "    if k == 0: return [x_0]\n",
    "    if k == 1: return [x_0, x_1]\n",
    "\n",
    "    res = [x_0, x_1]\n",
    "\n",
    "    for i in range(2, k + 1):\n",
    "        res.append(calc_next_x(res[-2], res[-1]))\n",
    "\n",
    "    return res"
   ]
  },
  {
   "cell_type": "markdown",
   "id": "d2b1abdb",
   "metadata": {},
   "source": [
    "#### Float (8 bajtów)"
   ]
  },
  {
   "cell_type": "markdown",
   "id": "9413615a",
   "metadata": {},
   "source": [
    "Znak: $1$ bit\n",
    "\n",
    "Mantysa: $52$ bity\n",
    "\n",
    "Wykładnik: $11$ bitów (zakres: $[-1022, 1023]$)\n",
    "\n",
    "Dokładność: $15-16$ cyfr znaczących (max: $4503599627370496$)"
   ]
  },
  {
   "cell_type": "markdown",
   "id": "9b847735",
   "metadata": {},
   "source": [
    "**Wyniki obliczeń**"
   ]
  },
  {
   "cell_type": "code",
   "execution_count": 10,
   "id": "874b67ee",
   "metadata": {
    "scrolled": true
   },
   "outputs": [
    {
     "name": "stdout",
     "output_type": "stream",
     "text": [
      "x_k = 100.0\n",
      "\n",
      "All subsequent numbers:\n",
      "x_0 = 5.500000\n",
      "x_1 = 5.545455\n",
      "x_2 = 5.590164\n",
      "x_3 = 5.633431\n",
      "x_4 = 5.674649\n",
      "x_5 = 5.713329\n",
      "x_6 = 5.749121\n",
      "x_7 = 5.781811\n",
      "x_8 = 5.811315\n",
      "x_9 = 5.837664\n",
      "x_10 = 5.861078\n",
      "x_11 = 5.883543\n",
      "x_12 = 5.935957\n",
      "x_13 = 6.534422\n",
      "x_14 = 15.413043\n",
      "x_15 = 67.472398\n",
      "x_16 = 97.137151\n",
      "x_17 = 99.824694\n",
      "x_18 = 99.989540\n",
      "x_19 = 99.999376\n",
      "x_20 = 99.999963\n",
      "x_21 = 99.999998\n",
      "x_22 = 100.000000\n",
      "x_23 = 100.000000\n",
      "x_24 = 100.000000\n",
      "x_25 = 100.000000\n",
      "x_26 = 100.000000\n",
      "x_27 = 100.000000\n",
      "x_28 = 100.000000\n",
      "x_29 = 100.000000\n",
      "x_30 = 100.000000\n",
      "x_31 = 100.000000\n",
      "x_32 = 100.000000\n",
      "x_33 = 100.000000\n",
      "x_34 = 100.000000\n"
     ]
    }
   ],
   "source": [
    "x_0 = 11/2\n",
    "x_1 = 61/11\n",
    "k = 34\n",
    "print('x_k =', calc_x_k(k, x_0, x_1))\n",
    "print('\\nAll subsequent numbers:')\n",
    "print(*(f'x_{i} = {v:.6f}' for i, v in enumerate(calc_all_to_k(k, x_0, x_1))), sep='\\n')"
   ]
  },
  {
   "cell_type": "markdown",
   "id": "32e19dee",
   "metadata": {},
   "source": [
    "**Zapisywanie wartości do porównania**"
   ]
  },
  {
   "cell_type": "code",
   "execution_count": 11,
   "id": "4036f961",
   "metadata": {},
   "outputs": [],
   "source": [
    "df['Python float'] = calc_all_to_k(k, x_0, x_1)"
   ]
  },
  {
   "cell_type": "markdown",
   "id": "8a0a6152",
   "metadata": {},
   "source": [
    "#### Decimal"
   ]
  },
  {
   "cell_type": "markdown",
   "id": "388839f8",
   "metadata": {},
   "source": [
    "Dokładność: zależna od ustawień użytkownika"
   ]
  },
  {
   "cell_type": "markdown",
   "id": "5b485234",
   "metadata": {},
   "source": [
    "Wiemy, że ciąg jest rosnący, przy czym różnica $x_i - x_{i-1}$ rośnie wraz ze wzrostem wartości $i$. Możemy więc, mając na uwadze ten fakt, wyznaczyć minimalną liczbę cyfr znaczących, przy której otrzymamy wynik bliski prawidłowemu."
   ]
  },
  {
   "cell_type": "markdown",
   "id": "c5225894",
   "metadata": {},
   "source": [
    "**Dekorator pozwalający na ustawienie precyzji**"
   ]
  },
  {
   "cell_type": "code",
   "execution_count": 12,
   "id": "b34746ee",
   "metadata": {},
   "outputs": [],
   "source": [
    "def precision(prec=15, rounding=decimal.ROUND_HALF_EVEN):\n",
    "    def decorator(fn):\n",
    "        def inner(*args, **kwargs):\n",
    "            with decimal.localcontext() as ctx:\n",
    "                ctx.prec = prec\n",
    "                ctx.rounding = rounding\n",
    "                return fn(*args, **kwargs)\n",
    "        return inner\n",
    "    return decorator"
   ]
  },
  {
   "cell_type": "markdown",
   "id": "ae664cbd",
   "metadata": {},
   "source": [
    "**Funkcja wyznaczająca minimalną precyzję**"
   ]
  },
  {
   "cell_type": "code",
   "execution_count": 13,
   "id": "f5cd5bc1",
   "metadata": {},
   "outputs": [],
   "source": [
    "def is_correct_seq(k):\n",
    "    x_prev = Decimal(11) / Decimal(2)\n",
    "    x_curr = Decimal(61) / Decimal(11)\n",
    "\n",
    "    for i in range(2, k + 1):\n",
    "        x_next = calc_next_x(x_prev, x_curr)\n",
    "\n",
    "        if x_next < x_curr or x_next - x_curr > x_curr - x_prev:\n",
    "            return False\n",
    "\n",
    "        x_prev = x_curr\n",
    "        x_curr = x_next\n",
    "    \n",
    "    return True\n",
    "\n",
    "\n",
    "def find_precision(k, *, start_prec=15):\n",
    "    prec = start_prec\n",
    "    \n",
    "    while not precision(prec)(is_correct_seq)(k):\n",
    "        prec += 1\n",
    "        \n",
    "    return prec"
   ]
  },
  {
   "cell_type": "markdown",
   "id": "926cc342",
   "metadata": {},
   "source": [
    "**Minimalna precyzja**"
   ]
  },
  {
   "cell_type": "code",
   "execution_count": 14,
   "id": "d4f088f3",
   "metadata": {},
   "outputs": [
    {
     "data": {
      "text/plain": [
       "46"
      ]
     },
     "execution_count": 14,
     "metadata": {},
     "output_type": "execute_result"
    }
   ],
   "source": [
    "find_precision(34)"
   ]
  },
  {
   "cell_type": "markdown",
   "id": "77848c0b",
   "metadata": {},
   "source": [
    "**Wyniki obliczeń**"
   ]
  },
  {
   "cell_type": "code",
   "execution_count": 15,
   "id": "d97d73cf",
   "metadata": {},
   "outputs": [],
   "source": [
    "@precision(46)\n",
    "def calc():\n",
    "    x_0 = Decimal(11)/Decimal(2)\n",
    "    x_1 = Decimal(61)/Decimal(11)\n",
    "    k = 34\n",
    "    \n",
    "    x_k = calc_x_k(k, x_0, x_1)\n",
    "    all_to_k = calc_all_to_k(k, x_0, x_1)\n",
    "    print('x_k =', x_k)\n",
    "    print(f'x_k = {x_k:.3f} (truncated to 3 decimal numbers)')\n",
    "    print('\\nAll subsequent numbers:')\n",
    "    print(*(f'x_{i} = {v:.6f}' for i, v in enumerate(all_to_k)), sep='\\n')\n",
    "    \n",
    "    return all_to_k"
   ]
  },
  {
   "cell_type": "code",
   "execution_count": 16,
   "id": "d7d72d10",
   "metadata": {
    "scrolled": true
   },
   "outputs": [
    {
     "name": "stdout",
     "output_type": "stream",
     "text": [
      "x_k = 5.9980456517174985371741891643593803514794986\n",
      "x_k = 5.998 (truncated to 3 decimal numbers)\n",
      "\n",
      "All subsequent numbers:\n",
      "x_0 = 5.500000\n",
      "x_1 = 5.545455\n",
      "x_2 = 5.590164\n",
      "x_3 = 5.633431\n",
      "x_4 = 5.674649\n",
      "x_5 = 5.713329\n",
      "x_6 = 5.749121\n",
      "x_7 = 5.781811\n",
      "x_8 = 5.811314\n",
      "x_9 = 5.837657\n",
      "x_10 = 5.860952\n",
      "x_11 = 5.881377\n",
      "x_12 = 5.899154\n",
      "x_13 = 5.914525\n",
      "x_14 = 5.927741\n",
      "x_15 = 5.939050\n",
      "x_16 = 5.948687\n",
      "x_17 = 5.956871\n",
      "x_18 = 5.963799\n",
      "x_19 = 5.969649\n",
      "x_20 = 5.974579\n",
      "x_21 = 5.978726\n",
      "x_22 = 5.982208\n",
      "x_23 = 5.985130\n",
      "x_24 = 5.987577\n",
      "x_25 = 5.989626\n",
      "x_26 = 5.991340\n",
      "x_27 = 5.992773\n",
      "x_28 = 5.993970\n",
      "x_29 = 5.994970\n",
      "x_30 = 5.995805\n",
      "x_31 = 5.996502\n",
      "x_32 = 5.997083\n",
      "x_33 = 5.997572\n",
      "x_34 = 5.998046\n"
     ]
    }
   ],
   "source": [
    "all_to_k = calc()"
   ]
  },
  {
   "cell_type": "markdown",
   "id": "aa37bcff",
   "metadata": {},
   "source": [
    "**Zapisywanie wartości do porównania**"
   ]
  },
  {
   "cell_type": "code",
   "execution_count": 17,
   "id": "a9a0ab08",
   "metadata": {},
   "outputs": [],
   "source": [
    "df['Python Decimal'] = [float(v) for v in all_to_k]"
   ]
  },
  {
   "cell_type": "markdown",
   "id": "7ae14021",
   "metadata": {},
   "source": [
    "#### Fraction"
   ]
  },
  {
   "cell_type": "markdown",
   "id": "ee923085",
   "metadata": {},
   "source": [
    "Brak utraty dokładności, obliczenia wykonywane są na ułamkach, w których licznik i mianownik są liczbami całkowitymi. Podczas działań, ułamki są sprowadzane do wspólnego mianownika."
   ]
  },
  {
   "cell_type": "markdown",
   "id": "5ece9c93",
   "metadata": {},
   "source": [
    "**Wyniki obliczeń**"
   ]
  },
  {
   "cell_type": "code",
   "execution_count": 18,
   "id": "56589778",
   "metadata": {},
   "outputs": [],
   "source": [
    "def calc():\n",
    "    x_0 = Fraction('11/2')\n",
    "    x_1 = Fraction('61/11')\n",
    "    k = 34\n",
    "    \n",
    "    x_k = calc_x_k(k, x_0, x_1)\n",
    "    all_to_k = calc_all_to_k(k, x_0, x_1)\n",
    "    print('x_k =', x_k)\n",
    "    print(f'x_k = {float(x_k):.3f} (truncated to 3 decimal numbers)')\n",
    "    print('\\nAll subsequent numbers:')\n",
    "    print(*(f'x_{i} = {float(v):.6f} ({v})' for i, v in enumerate(all_to_k)), sep='\\n')\n",
    "    \n",
    "    return all_to_k"
   ]
  },
  {
   "cell_type": "code",
   "execution_count": 19,
   "id": "d0249176",
   "metadata": {
    "scrolled": false
   },
   "outputs": [
    {
     "name": "stdout",
     "output_type": "stream",
     "text": [
      "x_k = 1721981182794095961389986301/287093876567205105910375321\n",
      "x_k = 5.998 (truncated to 3 decimal numbers)\n",
      "\n",
      "All subsequent numbers:\n",
      "x_0 = 5.500000 (11/2)\n",
      "x_1 = 5.545455 (61/11)\n",
      "x_2 = 5.590164 (341/61)\n",
      "x_3 = 5.633431 (1921/341)\n",
      "x_4 = 5.674649 (10901/1921)\n",
      "x_5 = 5.713329 (62281/10901)\n",
      "x_6 = 5.749121 (358061/62281)\n",
      "x_7 = 5.781811 (2070241/358061)\n",
      "x_8 = 5.811314 (12030821/2070241)\n",
      "x_9 = 5.837657 (70231801/12030821)\n",
      "x_10 = 5.860952 (411625181/70231801)\n",
      "x_11 = 5.881377 (2420922961/411625181)\n",
      "x_12 = 5.899154 (14281397141/2420922961)\n",
      "x_13 = 5.914525 (84467679721/14281397141)\n",
      "x_14 = 5.927741 (500702562701/84467679721)\n",
      "x_15 = 5.939050 (2973697798081/500702562701)\n",
      "x_16 = 5.948687 (17689598897861/2973697798081)\n",
      "x_17 = 5.956871 (105374653934041/17689598897861)\n",
      "x_18 = 5.963799 (628433226338621/105374653934041)\n",
      "x_19 = 5.969649 (3751525871703601/628433226338621)\n",
      "x_20 = 5.974579 (22413787798580981/3751525871703601)\n",
      "x_21 = 5.978726 (134005889633282761/22413787798580981)\n",
      "x_22 = 5.982208 (801651152008680941/134005889633282761)\n",
      "x_23 = 5.985130 (4797985983097007521/801651152008680941)\n",
      "x_24 = 5.987577 (28728311253806654501/4797985983097007521)\n",
      "x_25 = 5.989626 (172071844298962973881/28728311253806654501)\n",
      "x_26 = 5.991340 (1030940949674393077661/172071844298962973881)\n",
      "x_27 = 5.992773 (6178195117449434637841/1030940949674393077661)\n",
      "x_28 = 5.993970 (37031917801711988686421/6178195117449434637841)\n",
      "x_29 = 5.994970 (222005242295348836415401/37031917801711988686421)\n",
      "x_30 = 5.995805 (1331100131197477539976781/222005242295348836415401)\n",
      "x_31 = 5.996502 (7981944174311787847282561/1331100131197477539976781)\n",
      "x_32 = 5.997083 (47868381981505340120804741/7981944174311787847282561)\n",
      "x_33 = 5.997568 (287093876567205105910375321/47868381981505340120804741)\n",
      "x_34 = 5.997973 (1721981182794095961389986301/287093876567205105910375321)\n"
     ]
    }
   ],
   "source": [
    "all_to_k = calc()"
   ]
  },
  {
   "cell_type": "markdown",
   "id": "ffedff67",
   "metadata": {},
   "source": [
    "**Zapisywanie wartości do porównania**"
   ]
  },
  {
   "cell_type": "code",
   "execution_count": 20,
   "id": "f9395d60",
   "metadata": {},
   "outputs": [],
   "source": [
    "df['Python Fraction'] = [float(v) for v in all_to_k]"
   ]
  },
  {
   "cell_type": "markdown",
   "id": "616dfe1d",
   "metadata": {},
   "source": [
    "# Opracowanie wyników"
   ]
  },
  {
   "cell_type": "markdown",
   "id": "9aebfb42",
   "metadata": {},
   "source": [
    "## Porównanie otrzymanych wartości"
   ]
  },
  {
   "cell_type": "code",
   "execution_count": 21,
   "id": "728fbd0c",
   "metadata": {},
   "outputs": [
    {
     "data": {
      "text/html": [
       "<div>\n",
       "<style scoped>\n",
       "    .dataframe tbody tr th:only-of-type {\n",
       "        vertical-align: middle;\n",
       "    }\n",
       "\n",
       "    .dataframe tbody tr th {\n",
       "        vertical-align: top;\n",
       "    }\n",
       "\n",
       "    .dataframe thead th {\n",
       "        text-align: right;\n",
       "    }\n",
       "</style>\n",
       "<table border=\"1\" class=\"dataframe\">\n",
       "  <thead>\n",
       "    <tr style=\"text-align: right;\">\n",
       "      <th></th>\n",
       "      <th>C++ float</th>\n",
       "      <th>C++ double</th>\n",
       "      <th>C++ long double</th>\n",
       "      <th>Python float</th>\n",
       "      <th>Python Decimal</th>\n",
       "      <th>Python Fraction</th>\n",
       "    </tr>\n",
       "  </thead>\n",
       "  <tbody>\n",
       "    <tr>\n",
       "      <th>0</th>\n",
       "      <td>5.500000</td>\n",
       "      <td>5.500000</td>\n",
       "      <td>5.500000</td>\n",
       "      <td>5.500000</td>\n",
       "      <td>5.500000</td>\n",
       "      <td>5.500000</td>\n",
       "    </tr>\n",
       "    <tr>\n",
       "      <th>1</th>\n",
       "      <td>5.545455</td>\n",
       "      <td>5.545455</td>\n",
       "      <td>5.545455</td>\n",
       "      <td>5.545455</td>\n",
       "      <td>5.545455</td>\n",
       "      <td>5.545455</td>\n",
       "    </tr>\n",
       "    <tr>\n",
       "      <th>2</th>\n",
       "      <td>5.590157</td>\n",
       "      <td>5.590164</td>\n",
       "      <td>5.590164</td>\n",
       "      <td>5.590164</td>\n",
       "      <td>5.590164</td>\n",
       "      <td>5.590164</td>\n",
       "    </tr>\n",
       "    <tr>\n",
       "      <th>3</th>\n",
       "      <td>5.633286</td>\n",
       "      <td>5.633431</td>\n",
       "      <td>5.633431</td>\n",
       "      <td>5.633431</td>\n",
       "      <td>5.633431</td>\n",
       "      <td>5.633431</td>\n",
       "    </tr>\n",
       "    <tr>\n",
       "      <th>4</th>\n",
       "      <td>5.672050</td>\n",
       "      <td>5.674649</td>\n",
       "      <td>5.674649</td>\n",
       "      <td>5.674649</td>\n",
       "      <td>5.674649</td>\n",
       "      <td>5.674649</td>\n",
       "    </tr>\n",
       "    <tr>\n",
       "      <th>5</th>\n",
       "      <td>5.667526</td>\n",
       "      <td>5.713329</td>\n",
       "      <td>5.713329</td>\n",
       "      <td>5.713329</td>\n",
       "      <td>5.713329</td>\n",
       "      <td>5.713329</td>\n",
       "    </tr>\n",
       "    <tr>\n",
       "      <th>6</th>\n",
       "      <td>4.941246</td>\n",
       "      <td>5.749121</td>\n",
       "      <td>5.749121</td>\n",
       "      <td>5.749121</td>\n",
       "      <td>5.749121</td>\n",
       "      <td>5.749121</td>\n",
       "    </tr>\n",
       "    <tr>\n",
       "      <th>7</th>\n",
       "      <td>-10.562157</td>\n",
       "      <td>5.781811</td>\n",
       "      <td>5.781811</td>\n",
       "      <td>5.781811</td>\n",
       "      <td>5.781811</td>\n",
       "      <td>5.781811</td>\n",
       "    </tr>\n",
       "    <tr>\n",
       "      <th>8</th>\n",
       "      <td>160.503693</td>\n",
       "      <td>5.811315</td>\n",
       "      <td>5.811315</td>\n",
       "      <td>5.811315</td>\n",
       "      <td>5.811314</td>\n",
       "      <td>5.811314</td>\n",
       "    </tr>\n",
       "    <tr>\n",
       "      <th>9</th>\n",
       "      <td>102.190025</td>\n",
       "      <td>5.837664</td>\n",
       "      <td>5.837664</td>\n",
       "      <td>5.837664</td>\n",
       "      <td>5.837657</td>\n",
       "      <td>5.837657</td>\n",
       "    </tr>\n",
       "    <tr>\n",
       "      <th>10</th>\n",
       "      <td>100.125076</td>\n",
       "      <td>5.861078</td>\n",
       "      <td>5.861078</td>\n",
       "      <td>5.861078</td>\n",
       "      <td>5.860952</td>\n",
       "      <td>5.860952</td>\n",
       "    </tr>\n",
       "    <tr>\n",
       "      <th>11</th>\n",
       "      <td>100.007317</td>\n",
       "      <td>5.883543</td>\n",
       "      <td>5.883543</td>\n",
       "      <td>5.883543</td>\n",
       "      <td>5.881377</td>\n",
       "      <td>5.881377</td>\n",
       "    </tr>\n",
       "    <tr>\n",
       "      <th>12</th>\n",
       "      <td>100.000427</td>\n",
       "      <td>5.935957</td>\n",
       "      <td>5.935957</td>\n",
       "      <td>5.935957</td>\n",
       "      <td>5.899154</td>\n",
       "      <td>5.899154</td>\n",
       "    </tr>\n",
       "    <tr>\n",
       "      <th>13</th>\n",
       "      <td>100.000023</td>\n",
       "      <td>6.534422</td>\n",
       "      <td>6.534422</td>\n",
       "      <td>6.534422</td>\n",
       "      <td>5.914525</td>\n",
       "      <td>5.914525</td>\n",
       "    </tr>\n",
       "    <tr>\n",
       "      <th>14</th>\n",
       "      <td>100.000000</td>\n",
       "      <td>15.413043</td>\n",
       "      <td>15.413043</td>\n",
       "      <td>15.413043</td>\n",
       "      <td>5.927741</td>\n",
       "      <td>5.927741</td>\n",
       "    </tr>\n",
       "    <tr>\n",
       "      <th>15</th>\n",
       "      <td>100.000000</td>\n",
       "      <td>67.472398</td>\n",
       "      <td>67.472398</td>\n",
       "      <td>67.472398</td>\n",
       "      <td>5.939050</td>\n",
       "      <td>5.939050</td>\n",
       "    </tr>\n",
       "    <tr>\n",
       "      <th>16</th>\n",
       "      <td>100.000000</td>\n",
       "      <td>97.137151</td>\n",
       "      <td>97.137151</td>\n",
       "      <td>97.137151</td>\n",
       "      <td>5.948687</td>\n",
       "      <td>5.948687</td>\n",
       "    </tr>\n",
       "    <tr>\n",
       "      <th>17</th>\n",
       "      <td>100.000000</td>\n",
       "      <td>99.824694</td>\n",
       "      <td>99.824694</td>\n",
       "      <td>99.824694</td>\n",
       "      <td>5.956871</td>\n",
       "      <td>5.956871</td>\n",
       "    </tr>\n",
       "    <tr>\n",
       "      <th>18</th>\n",
       "      <td>100.000000</td>\n",
       "      <td>99.989540</td>\n",
       "      <td>99.989540</td>\n",
       "      <td>99.989540</td>\n",
       "      <td>5.963799</td>\n",
       "      <td>5.963799</td>\n",
       "    </tr>\n",
       "    <tr>\n",
       "      <th>19</th>\n",
       "      <td>100.000000</td>\n",
       "      <td>99.999376</td>\n",
       "      <td>99.999376</td>\n",
       "      <td>99.999376</td>\n",
       "      <td>5.969649</td>\n",
       "      <td>5.969649</td>\n",
       "    </tr>\n",
       "    <tr>\n",
       "      <th>20</th>\n",
       "      <td>100.000000</td>\n",
       "      <td>99.999963</td>\n",
       "      <td>99.999963</td>\n",
       "      <td>99.999963</td>\n",
       "      <td>5.974579</td>\n",
       "      <td>5.974579</td>\n",
       "    </tr>\n",
       "    <tr>\n",
       "      <th>21</th>\n",
       "      <td>100.000000</td>\n",
       "      <td>99.999998</td>\n",
       "      <td>99.999998</td>\n",
       "      <td>99.999998</td>\n",
       "      <td>5.978726</td>\n",
       "      <td>5.978726</td>\n",
       "    </tr>\n",
       "    <tr>\n",
       "      <th>22</th>\n",
       "      <td>100.000000</td>\n",
       "      <td>100.000000</td>\n",
       "      <td>100.000000</td>\n",
       "      <td>100.000000</td>\n",
       "      <td>5.982208</td>\n",
       "      <td>5.982208</td>\n",
       "    </tr>\n",
       "    <tr>\n",
       "      <th>23</th>\n",
       "      <td>100.000000</td>\n",
       "      <td>100.000000</td>\n",
       "      <td>100.000000</td>\n",
       "      <td>100.000000</td>\n",
       "      <td>5.985130</td>\n",
       "      <td>5.985130</td>\n",
       "    </tr>\n",
       "    <tr>\n",
       "      <th>24</th>\n",
       "      <td>100.000000</td>\n",
       "      <td>100.000000</td>\n",
       "      <td>100.000000</td>\n",
       "      <td>100.000000</td>\n",
       "      <td>5.987577</td>\n",
       "      <td>5.987577</td>\n",
       "    </tr>\n",
       "    <tr>\n",
       "      <th>25</th>\n",
       "      <td>100.000000</td>\n",
       "      <td>100.000000</td>\n",
       "      <td>100.000000</td>\n",
       "      <td>100.000000</td>\n",
       "      <td>5.989626</td>\n",
       "      <td>5.989626</td>\n",
       "    </tr>\n",
       "    <tr>\n",
       "      <th>26</th>\n",
       "      <td>100.000000</td>\n",
       "      <td>100.000000</td>\n",
       "      <td>100.000000</td>\n",
       "      <td>100.000000</td>\n",
       "      <td>5.991340</td>\n",
       "      <td>5.991340</td>\n",
       "    </tr>\n",
       "    <tr>\n",
       "      <th>27</th>\n",
       "      <td>100.000000</td>\n",
       "      <td>100.000000</td>\n",
       "      <td>100.000000</td>\n",
       "      <td>100.000000</td>\n",
       "      <td>5.992773</td>\n",
       "      <td>5.992773</td>\n",
       "    </tr>\n",
       "    <tr>\n",
       "      <th>28</th>\n",
       "      <td>100.000000</td>\n",
       "      <td>100.000000</td>\n",
       "      <td>100.000000</td>\n",
       "      <td>100.000000</td>\n",
       "      <td>5.993970</td>\n",
       "      <td>5.993970</td>\n",
       "    </tr>\n",
       "    <tr>\n",
       "      <th>29</th>\n",
       "      <td>100.000000</td>\n",
       "      <td>100.000000</td>\n",
       "      <td>100.000000</td>\n",
       "      <td>100.000000</td>\n",
       "      <td>5.994970</td>\n",
       "      <td>5.994970</td>\n",
       "    </tr>\n",
       "    <tr>\n",
       "      <th>30</th>\n",
       "      <td>100.000000</td>\n",
       "      <td>100.000000</td>\n",
       "      <td>100.000000</td>\n",
       "      <td>100.000000</td>\n",
       "      <td>5.995805</td>\n",
       "      <td>5.995805</td>\n",
       "    </tr>\n",
       "    <tr>\n",
       "      <th>31</th>\n",
       "      <td>100.000000</td>\n",
       "      <td>100.000000</td>\n",
       "      <td>100.000000</td>\n",
       "      <td>100.000000</td>\n",
       "      <td>5.996502</td>\n",
       "      <td>5.996502</td>\n",
       "    </tr>\n",
       "    <tr>\n",
       "      <th>32</th>\n",
       "      <td>100.000000</td>\n",
       "      <td>100.000000</td>\n",
       "      <td>100.000000</td>\n",
       "      <td>100.000000</td>\n",
       "      <td>5.997083</td>\n",
       "      <td>5.997083</td>\n",
       "    </tr>\n",
       "    <tr>\n",
       "      <th>33</th>\n",
       "      <td>100.000000</td>\n",
       "      <td>100.000000</td>\n",
       "      <td>100.000000</td>\n",
       "      <td>100.000000</td>\n",
       "      <td>5.997572</td>\n",
       "      <td>5.997568</td>\n",
       "    </tr>\n",
       "    <tr>\n",
       "      <th>34</th>\n",
       "      <td>100.000000</td>\n",
       "      <td>100.000000</td>\n",
       "      <td>100.000000</td>\n",
       "      <td>100.000000</td>\n",
       "      <td>5.998046</td>\n",
       "      <td>5.997973</td>\n",
       "    </tr>\n",
       "  </tbody>\n",
       "</table>\n",
       "</div>"
      ],
      "text/plain": [
       "     C++ float  C++ double  C++ long double  Python float  Python Decimal  \\\n",
       "0     5.500000    5.500000         5.500000      5.500000        5.500000   \n",
       "1     5.545455    5.545455         5.545455      5.545455        5.545455   \n",
       "2     5.590157    5.590164         5.590164      5.590164        5.590164   \n",
       "3     5.633286    5.633431         5.633431      5.633431        5.633431   \n",
       "4     5.672050    5.674649         5.674649      5.674649        5.674649   \n",
       "5     5.667526    5.713329         5.713329      5.713329        5.713329   \n",
       "6     4.941246    5.749121         5.749121      5.749121        5.749121   \n",
       "7   -10.562157    5.781811         5.781811      5.781811        5.781811   \n",
       "8   160.503693    5.811315         5.811315      5.811315        5.811314   \n",
       "9   102.190025    5.837664         5.837664      5.837664        5.837657   \n",
       "10  100.125076    5.861078         5.861078      5.861078        5.860952   \n",
       "11  100.007317    5.883543         5.883543      5.883543        5.881377   \n",
       "12  100.000427    5.935957         5.935957      5.935957        5.899154   \n",
       "13  100.000023    6.534422         6.534422      6.534422        5.914525   \n",
       "14  100.000000   15.413043        15.413043     15.413043        5.927741   \n",
       "15  100.000000   67.472398        67.472398     67.472398        5.939050   \n",
       "16  100.000000   97.137151        97.137151     97.137151        5.948687   \n",
       "17  100.000000   99.824694        99.824694     99.824694        5.956871   \n",
       "18  100.000000   99.989540        99.989540     99.989540        5.963799   \n",
       "19  100.000000   99.999376        99.999376     99.999376        5.969649   \n",
       "20  100.000000   99.999963        99.999963     99.999963        5.974579   \n",
       "21  100.000000   99.999998        99.999998     99.999998        5.978726   \n",
       "22  100.000000  100.000000       100.000000    100.000000        5.982208   \n",
       "23  100.000000  100.000000       100.000000    100.000000        5.985130   \n",
       "24  100.000000  100.000000       100.000000    100.000000        5.987577   \n",
       "25  100.000000  100.000000       100.000000    100.000000        5.989626   \n",
       "26  100.000000  100.000000       100.000000    100.000000        5.991340   \n",
       "27  100.000000  100.000000       100.000000    100.000000        5.992773   \n",
       "28  100.000000  100.000000       100.000000    100.000000        5.993970   \n",
       "29  100.000000  100.000000       100.000000    100.000000        5.994970   \n",
       "30  100.000000  100.000000       100.000000    100.000000        5.995805   \n",
       "31  100.000000  100.000000       100.000000    100.000000        5.996502   \n",
       "32  100.000000  100.000000       100.000000    100.000000        5.997083   \n",
       "33  100.000000  100.000000       100.000000    100.000000        5.997572   \n",
       "34  100.000000  100.000000       100.000000    100.000000        5.998046   \n",
       "\n",
       "    Python Fraction  \n",
       "0          5.500000  \n",
       "1          5.545455  \n",
       "2          5.590164  \n",
       "3          5.633431  \n",
       "4          5.674649  \n",
       "5          5.713329  \n",
       "6          5.749121  \n",
       "7          5.781811  \n",
       "8          5.811314  \n",
       "9          5.837657  \n",
       "10         5.860952  \n",
       "11         5.881377  \n",
       "12         5.899154  \n",
       "13         5.914525  \n",
       "14         5.927741  \n",
       "15         5.939050  \n",
       "16         5.948687  \n",
       "17         5.956871  \n",
       "18         5.963799  \n",
       "19         5.969649  \n",
       "20         5.974579  \n",
       "21         5.978726  \n",
       "22         5.982208  \n",
       "23         5.985130  \n",
       "24         5.987577  \n",
       "25         5.989626  \n",
       "26         5.991340  \n",
       "27         5.992773  \n",
       "28         5.993970  \n",
       "29         5.994970  \n",
       "30         5.995805  \n",
       "31         5.996502  \n",
       "32         5.997083  \n",
       "33         5.997568  \n",
       "34         5.997973  "
      ]
     },
     "execution_count": 21,
     "metadata": {},
     "output_type": "execute_result"
    }
   ],
   "source": [
    "df"
   ]
  },
  {
   "cell_type": "markdown",
   "id": "5c319b74",
   "metadata": {},
   "source": [
    "&nbsp;&nbsp;&nbsp;&nbsp;&nbsp;&nbsp;&nbsp;&nbsp;&nbsp;&nbsp;&nbsp;&nbsp;Tabela 1: Porównanie wartości kolejnych wyrazów dla wszystkich precyzji"
   ]
  },
  {
   "cell_type": "markdown",
   "id": "31571b85",
   "metadata": {},
   "source": [
    "## Wykresy"
   ]
  },
  {
   "cell_type": "code",
   "execution_count": 22,
   "id": "fb91b7fb",
   "metadata": {},
   "outputs": [],
   "source": [
    "sns.set_theme()"
   ]
  },
  {
   "cell_type": "markdown",
   "id": "1773340c",
   "metadata": {},
   "source": [
    "### Wszystkie wartości"
   ]
  },
  {
   "cell_type": "code",
   "execution_count": 23,
   "id": "4e5e4a15",
   "metadata": {},
   "outputs": [
    {
     "data": {
      "image/png": "[encoded data removed]",
      "text/plain": [
       "<Figure size 1080x540 with 1 Axes>"
      ]
     },
     "metadata": {},
     "output_type": "display_data"
    }
   ],
   "source": [
    "plt.figure(figsize=(15, 7.5))\n",
    "sns.lineplot(data=df, markers=True, dashes=False)\n",
    "pass"
   ]
  },
  {
   "cell_type": "markdown",
   "id": "245185b9",
   "metadata": {},
   "source": [
    "&nbsp;&nbsp;&nbsp;&nbsp;&nbsp;&nbsp;&nbsp;&nbsp;&nbsp;&nbsp;&nbsp;&nbsp;Wykres 1: Porównanie wartości kolejnych wyrazów dla wszystkich precyzji"
   ]
  },
  {
   "cell_type": "markdown",
   "id": "049058ac",
   "metadata": {},
   "source": [
    "### C++"
   ]
  },
  {
   "cell_type": "markdown",
   "id": "2b197ced",
   "metadata": {},
   "source": [
    "#### Wszystkie typy zmiennych"
   ]
  },
  {
   "cell_type": "code",
   "execution_count": 24,
   "id": "5d7e22c6",
   "metadata": {},
   "outputs": [
    {
     "data": {
      "image/png": "[encoded data removed]",
      "text/plain": [
       "<Figure size 1080x540 with 1 Axes>"
      ]
     },
     "metadata": {},
     "output_type": "display_data"
    }
   ],
   "source": [
    "plt.figure(figsize=(15, 7.5))\n",
    "sns.lineplot(data=df[[c for c in df if c.startswith('C++')]], markers=True, dashes=False)\n",
    "pass"
   ]
  },
  {
   "cell_type": "markdown",
   "id": "807fe32b",
   "metadata": {},
   "source": [
    "&nbsp;&nbsp;&nbsp;&nbsp;&nbsp;&nbsp;&nbsp;&nbsp;&nbsp;&nbsp;&nbsp;Wykres 2: Porównanie wszystkich wartości pomiarów wykonanych w języku C++"
   ]
  },
  {
   "cell_type": "markdown",
   "id": "f656d98f",
   "metadata": {},
   "source": [
    "#### double i long double"
   ]
  },
  {
   "cell_type": "code",
   "execution_count": 25,
   "id": "87934b54",
   "metadata": {},
   "outputs": [
    {
     "data": {
      "image/png": "[encoded data removed]",
      "text/plain": [
       "<Figure size 1080x540 with 1 Axes>"
      ]
     },
     "metadata": {},
     "output_type": "display_data"
    }
   ],
   "source": [
    "plt.figure(figsize=(15, 7.5))\n",
    "sns.lineplot(data=df[[c for c in df if c.startswith('C++') and 'double' in c]], markers=True, dashes=False)\n",
    "pass"
   ]
  },
  {
   "cell_type": "markdown",
   "id": "acb19e01",
   "metadata": {},
   "source": [
    "&nbsp;&nbsp;&nbsp;&nbsp;&nbsp;&nbsp;Wykres 3: Porównanie wartości dla zmiennych typu ```double``` i ```long double``` w języku C++"
   ]
  },
  {
   "cell_type": "markdown",
   "id": "6956e25c",
   "metadata": {},
   "source": []
  },
  {
   "cell_type": "markdown",
   "id": "c6d8eeac",
   "metadata": {},
   "source": [
    "Jak widzimy, w przypadku zmienych typu ```double``` oraz ```long double```, otrzymujemy identyczny wykres, ponieważ wartości kolejnych wyrazów ciągu są takie same."
   ]
  },
  {
   "cell_type": "markdown",
   "id": "3304eda2",
   "metadata": {},
   "source": [
    "### Python"
   ]
  },
  {
   "cell_type": "markdown",
   "id": "4ced4d5c",
   "metadata": {},
   "source": [
    "#### Wszystkie typy zmiennych"
   ]
  },
  {
   "cell_type": "code",
   "execution_count": 26,
   "id": "9345cf36",
   "metadata": {},
   "outputs": [
    {
     "data": {
      "image/png": "[encoded data removed]",
      "text/plain": [
       "<Figure size 1080x540 with 1 Axes>"
      ]
     },
     "metadata": {},
     "output_type": "display_data"
    }
   ],
   "source": [
    "plt.figure(figsize=(15, 7.5))\n",
    "sns.lineplot(data=df[[c for c in df if c.startswith('Python')]], markers=True, dashes=False)\n",
    "pass"
   ]
  },
  {
   "cell_type": "markdown",
   "id": "f9e25e77",
   "metadata": {},
   "source": [
    "&nbsp;&nbsp;&nbsp;&nbsp;&nbsp;&nbsp;&nbsp;&nbsp;&nbsp;Wykres 4: Porównanie wszystkich wartości pomiarów wykonanych w języku Python"
   ]
  },
  {
   "cell_type": "markdown",
   "id": "c7158b26",
   "metadata": {},
   "source": [
    "#### Decimal i Fraction"
   ]
  },
  {
   "cell_type": "code",
   "execution_count": 27,
   "id": "824d520a",
   "metadata": {},
   "outputs": [
    {
     "data": {
      "image/png": "[encoded data removed]",
      "text/plain": [
       "<Figure size 1080x540 with 1 Axes>"
      ]
     },
     "metadata": {},
     "output_type": "display_data"
    }
   ],
   "source": [
    "plt.figure(figsize=(15, 7.5))\n",
    "sns.lineplot(data=df[[c for c in df if c.startswith('Python') and 'float' not in c]], markers=True, dashes=False)\n",
    "pass"
   ]
  },
  {
   "cell_type": "markdown",
   "id": "cb9351f6",
   "metadata": {},
   "source": [
    "&nbsp;Wykres 5: Porównanie wartości wartości dla zmiennych typu Decimal i Fraction w języku Python"
   ]
  },
  {
   "cell_type": "markdown",
   "id": "f57d92d1",
   "metadata": {},
   "source": []
  },
  {
   "cell_type": "markdown",
   "id": "d380936a",
   "metadata": {},
   "source": [
    "Możemy zaobserwować pokrywające się krzywe. W przypadku obu typów, otrzymane wyniki są bardzo dokładne i bliskie rzeczywistym wartościom."
   ]
  },
  {
   "cell_type": "markdown",
   "id": "6c05d1ce",
   "metadata": {},
   "source": [
    "## Porównanie czasu obliczania wartości ciągu"
   ]
  },
  {
   "cell_type": "markdown",
   "id": "a18cf954",
   "metadata": {},
   "source": [
    "### Python"
   ]
  },
  {
   "cell_type": "markdown",
   "id": "14a33f66",
   "metadata": {},
   "source": [
    "W celu porównania czasu obliczania wartości ciągu, w zależnosci od zastosowanego typu zmiennych, wykorzystam bibliotekę ```timeit```. Aby jak najbardziej rzeczywisty czas wykonania funkcji, wykonam $10000$ powtórzeń dla każdego z typów zmiennych i wyznaczę średni czas, jaki jest potrzebny na jedno wywołanie funkcji."
   ]
  },
  {
   "cell_type": "code",
   "execution_count": 28,
   "id": "515c09ee",
   "metadata": {},
   "outputs": [],
   "source": [
    "from timeit import timeit\n",
    "\n",
    "def measure_time(fn, k, x_0, x_1, *, reps=10_000):\n",
    "    total = timeit(\n",
    "        stmt=f'{fn.__name__}(k, x_0, x_1)', \n",
    "        number=reps, \n",
    "        globals={\n",
    "            fn.__name__: fn,\n",
    "            'k': k,\n",
    "            'x_0': x_0,\n",
    "            'x_1': x_1\n",
    "        }\n",
    "    )\n",
    "    total_ms = 1000 * total\n",
    "    total_μs = 1000 * total_ms\n",
    "    print(f'Total time:   {total_ms:.6f} ms [10^-3s]')\n",
    "    print(f'Average time: {total_μs / reps:.6f} μs [10^-6s]')"
   ]
  },
  {
   "cell_type": "markdown",
   "id": "dfa13713",
   "metadata": {},
   "source": [
    "#### float"
   ]
  },
  {
   "cell_type": "code",
   "execution_count": 29,
   "id": "d2913791",
   "metadata": {
    "scrolled": true
   },
   "outputs": [
    {
     "name": "stdout",
     "output_type": "stream",
     "text": [
      "Total time:   87.037000 ms [10^-3s]\n",
      "Average time: 8.703700 μs [10^-6s]\n"
     ]
    }
   ],
   "source": [
    "measure_time(calc_x_k, 34, 11/2, 61/11)"
   ]
  },
  {
   "cell_type": "markdown",
   "id": "530d34d7",
   "metadata": {},
   "source": [
    "#### Decimal"
   ]
  },
  {
   "cell_type": "code",
   "execution_count": 30,
   "id": "e64ed771",
   "metadata": {},
   "outputs": [
    {
     "name": "stdout",
     "output_type": "stream",
     "text": [
      "Total time:   356.517600 ms [10^-3s]\n",
      "Average time: 35.651760 μs [10^-6s]\n"
     ]
    }
   ],
   "source": [
    "with decimal.localcontext() as ctx:\n",
    "    ctx.prec = 46\n",
    "    x_0 = Decimal(11) / Decimal(2)\n",
    "    x_1 = Decimal(61) / Decimal(11)\n",
    "    measure_time(calc_x_k, 34, x_0, x_1)"
   ]
  },
  {
   "cell_type": "markdown",
   "id": "193a1424",
   "metadata": {},
   "source": [
    "#### Fraction"
   ]
  },
  {
   "cell_type": "code",
   "execution_count": 31,
   "id": "043e4ae6",
   "metadata": {},
   "outputs": [
    {
     "name": "stdout",
     "output_type": "stream",
     "text": [
      "Total time:   3157.576600 ms [10^-3s]\n",
      "Average time: 315.757660 μs [10^-6s]\n"
     ]
    }
   ],
   "source": [
    "measure_time(calc_x_k, 34, Fraction('11/2'), Fraction('61/11'))"
   ]
  },
  {
   "cell_type": "markdown",
   "id": "9574471e",
   "metadata": {},
   "source": [
    "##### Wnioski"
   ]
  },
  {
   "cell_type": "markdown",
   "id": "4267ccb9",
   "metadata": {},
   "source": [
    "Możemy zauważyć, że czas potrzebny na wykonanie obliczeń znacząco wzrasta, gdy używamy typu ```Decimal``` (około $4$-krotny wzrost względem typu ```float```). W przypadku, gdy korzystamy z typu ```Fraction```, czas się jeszcze bardziej wydłuża, co wynika z faktu, iż obliczenia dokonywane są na ułamkach, gdzie licznik i mianownik są liczbami całkowitymi. W tym przypadku obserwujemy aż $32$-krotny wzrost czasu wykonania względem typu ```float``` i $8$-krotny względem typu ```Decimal```."
   ]
  },
  {
   "cell_type": "markdown",
   "id": "5a49f6b2",
   "metadata": {},
   "source": [
    "### C++"
   ]
  },
  {
   "cell_type": "markdown",
   "id": "9aed4a81",
   "metadata": {},
   "source": [
    "Podobnie jak w przypadku Pythona, w języku C++ również wykonałem $10000$ powtórzeń dla każdego z typów zmiennych. Do wyznaczenia czasu potrzebnego na pojedyncze wywołanie funkji, wykorzystałem bibliotekę ```chrono```. Kod odpowiedzialny za obliczenia, znajduje się w pliku ```main.cpp```."
   ]
  },
  {
   "cell_type": "markdown",
   "id": "40c7b42b",
   "metadata": {},
   "source": [
    "#### float"
   ]
  },
  {
   "cell_type": "markdown",
   "id": "dabc2dad",
   "metadata": {},
   "source": [
    "    Total time: 3.100699999999543 ms [10^-3s]\n",
    "    Average time: 0.3100699999999543 μs [10^-6s]"
   ]
  },
  {
   "cell_type": "markdown",
   "id": "24afa771",
   "metadata": {},
   "source": [
    "#### double"
   ]
  },
  {
   "cell_type": "markdown",
   "id": "94ef36f7",
   "metadata": {},
   "source": [
    "    Total time: 3.371799999999435 ms [10^-3s]\n",
    "    Average time: 0.3371799999999435 μs [10^-6s]"
   ]
  },
  {
   "cell_type": "markdown",
   "id": "85866471",
   "metadata": {},
   "source": [
    "##### long double"
   ]
  },
  {
   "cell_type": "markdown",
   "id": "f2c8ff6b",
   "metadata": {},
   "source": [
    "    Total time: 3.325599999999536 ms [10^-3s]\n",
    "    Average time: 0.3325599999999536 μs [10^-6s]"
   ]
  },
  {
   "cell_type": "markdown",
   "id": "be9cc9e2",
   "metadata": {},
   "source": [
    "##### Wnioski"
   ]
  },
  {
   "cell_type": "markdown",
   "id": "6d462c46",
   "metadata": {},
   "source": [
    "Jak widać, wyniki się niewiele od siebie różnią. Po kilkukrotnym powtórzeniu testów, nie daje się zauwayżyć dużej zależnośći między użytym typem zmiennych a czasem potrzebnym na obliczenia."
   ]
  },
  {
   "cell_type": "markdown",
   "id": "e89939ce",
   "metadata": {},
   "source": [
    "## Wyznaczanie błędu bezwzględnego i błędu względnego"
   ]
  },
  {
   "cell_type": "markdown",
   "id": "324425ab",
   "metadata": {},
   "source": [
    "Wyniki, które otrzymałem, korzystając z klasy ```Fraction```, uznaję za wyniki dokładne i do tych wartości będę porównywał wyniki obliczeń wykonanych dla pozostałych typów zmiennych."
   ]
  },
  {
   "cell_type": "markdown",
   "id": "39e702ae",
   "metadata": {},
   "source": [
    "### Błąd bezwzględny"
   ]
  },
  {
   "cell_type": "markdown",
   "id": "9ff83dc2",
   "metadata": {},
   "source": [
    "Błąd bezwzględny obliczam, korzystając ze wzoru:\n",
    "\n",
    "$|x_{i(z)} - x_{i}|$\n",
    "\n",
    "gdzie:\n",
    "- $x_{i(z)}$ - wartość zmierzona $i$. wyrazu ciągu,\n",
    "- $x_{i}$ - wartość rzeczywista $i$. wyrazu ciągu"
   ]
  },
  {
   "cell_type": "markdown",
   "id": "6a6eaec7",
   "metadata": {},
   "source": [
    "#### Wartości błędów"
   ]
  },
  {
   "cell_type": "code",
   "execution_count": 32,
   "id": "6e722c38",
   "metadata": {},
   "outputs": [
    {
     "data": {
      "text/html": [
       "<div>\n",
       "<style scoped>\n",
       "    .dataframe tbody tr th:only-of-type {\n",
       "        vertical-align: middle;\n",
       "    }\n",
       "\n",
       "    .dataframe tbody tr th {\n",
       "        vertical-align: top;\n",
       "    }\n",
       "\n",
       "    .dataframe thead th {\n",
       "        text-align: right;\n",
       "    }\n",
       "</style>\n",
       "<table border=\"1\" class=\"dataframe\">\n",
       "  <thead>\n",
       "    <tr style=\"text-align: right;\">\n",
       "      <th></th>\n",
       "      <th>C++ float</th>\n",
       "      <th>C++ double</th>\n",
       "      <th>C++ long double</th>\n",
       "      <th>Python float</th>\n",
       "      <th>Python Decimal</th>\n",
       "    </tr>\n",
       "  </thead>\n",
       "  <tbody>\n",
       "    <tr>\n",
       "      <th>0</th>\n",
       "      <td>0.000000e+00</td>\n",
       "      <td>0.000000e+00</td>\n",
       "      <td>0.000000e+00</td>\n",
       "      <td>0.000000e+00</td>\n",
       "      <td>0.000000e+00</td>\n",
       "    </tr>\n",
       "    <tr>\n",
       "      <th>1</th>\n",
       "      <td>4.334883e-08</td>\n",
       "      <td>0.000000e+00</td>\n",
       "      <td>8.881784e-16</td>\n",
       "      <td>0.000000e+00</td>\n",
       "      <td>0.000000e+00</td>\n",
       "    </tr>\n",
       "    <tr>\n",
       "      <th>2</th>\n",
       "      <td>7.379250e-06</td>\n",
       "      <td>1.332268e-14</td>\n",
       "      <td>1.332268e-14</td>\n",
       "      <td>1.421085e-14</td>\n",
       "      <td>0.000000e+00</td>\n",
       "    </tr>\n",
       "    <tr>\n",
       "      <th>3</th>\n",
       "      <td>1.455626e-04</td>\n",
       "      <td>2.620126e-13</td>\n",
       "      <td>2.620126e-13</td>\n",
       "      <td>2.620126e-13</td>\n",
       "      <td>0.000000e+00</td>\n",
       "    </tr>\n",
       "    <tr>\n",
       "      <th>4</th>\n",
       "      <td>2.598144e-03</td>\n",
       "      <td>4.650502e-12</td>\n",
       "      <td>4.650502e-12</td>\n",
       "      <td>4.650502e-12</td>\n",
       "      <td>0.000000e+00</td>\n",
       "    </tr>\n",
       "    <tr>\n",
       "      <th>5</th>\n",
       "      <td>4.580281e-02</td>\n",
       "      <td>8.192558e-11</td>\n",
       "      <td>8.192558e-11</td>\n",
       "      <td>8.192558e-11</td>\n",
       "      <td>0.000000e+00</td>\n",
       "    </tr>\n",
       "    <tr>\n",
       "      <th>6</th>\n",
       "      <td>8.078749e-01</td>\n",
       "      <td>1.433402e-09</td>\n",
       "      <td>1.433402e-09</td>\n",
       "      <td>1.433402e-09</td>\n",
       "      <td>0.000000e+00</td>\n",
       "    </tr>\n",
       "    <tr>\n",
       "      <th>7</th>\n",
       "      <td>1.634397e+01</td>\n",
       "      <td>2.492390e-08</td>\n",
       "      <td>2.492390e-08</td>\n",
       "      <td>2.492390e-08</td>\n",
       "      <td>0.000000e+00</td>\n",
       "    </tr>\n",
       "    <tr>\n",
       "      <th>8</th>\n",
       "      <td>1.546924e+02</td>\n",
       "      <td>4.309393e-07</td>\n",
       "      <td>4.309393e-07</td>\n",
       "      <td>4.309393e-07</td>\n",
       "      <td>0.000000e+00</td>\n",
       "    </tr>\n",
       "    <tr>\n",
       "      <th>9</th>\n",
       "      <td>9.635237e+01</td>\n",
       "      <td>7.413449e-06</td>\n",
       "      <td>7.413449e-06</td>\n",
       "      <td>7.413449e-06</td>\n",
       "      <td>0.000000e+00</td>\n",
       "    </tr>\n",
       "    <tr>\n",
       "      <th>10</th>\n",
       "      <td>9.426412e+01</td>\n",
       "      <td>1.269620e-04</td>\n",
       "      <td>1.269620e-04</td>\n",
       "      <td>1.269620e-04</td>\n",
       "      <td>0.000000e+00</td>\n",
       "    </tr>\n",
       "    <tr>\n",
       "      <th>11</th>\n",
       "      <td>9.412594e+01</td>\n",
       "      <td>2.165718e-03</td>\n",
       "      <td>2.165718e-03</td>\n",
       "      <td>2.165718e-03</td>\n",
       "      <td>0.000000e+00</td>\n",
       "    </tr>\n",
       "    <tr>\n",
       "      <th>12</th>\n",
       "      <td>9.410127e+01</td>\n",
       "      <td>3.680281e-02</td>\n",
       "      <td>3.680281e-02</td>\n",
       "      <td>3.680281e-02</td>\n",
       "      <td>0.000000e+00</td>\n",
       "    </tr>\n",
       "    <tr>\n",
       "      <th>13</th>\n",
       "      <td>9.408550e+01</td>\n",
       "      <td>6.198967e-01</td>\n",
       "      <td>6.198967e-01</td>\n",
       "      <td>6.198967e-01</td>\n",
       "      <td>0.000000e+00</td>\n",
       "    </tr>\n",
       "    <tr>\n",
       "      <th>14</th>\n",
       "      <td>9.407226e+01</td>\n",
       "      <td>9.485302e+00</td>\n",
       "      <td>9.485302e+00</td>\n",
       "      <td>9.485302e+00</td>\n",
       "      <td>0.000000e+00</td>\n",
       "    </tr>\n",
       "    <tr>\n",
       "      <th>15</th>\n",
       "      <td>9.406095e+01</td>\n",
       "      <td>6.153335e+01</td>\n",
       "      <td>6.153335e+01</td>\n",
       "      <td>6.153335e+01</td>\n",
       "      <td>0.000000e+00</td>\n",
       "    </tr>\n",
       "    <tr>\n",
       "      <th>16</th>\n",
       "      <td>9.405131e+01</td>\n",
       "      <td>9.118846e+01</td>\n",
       "      <td>9.118846e+01</td>\n",
       "      <td>9.118846e+01</td>\n",
       "      <td>0.000000e+00</td>\n",
       "    </tr>\n",
       "    <tr>\n",
       "      <th>17</th>\n",
       "      <td>9.404313e+01</td>\n",
       "      <td>9.386782e+01</td>\n",
       "      <td>9.386782e+01</td>\n",
       "      <td>9.386782e+01</td>\n",
       "      <td>0.000000e+00</td>\n",
       "    </tr>\n",
       "    <tr>\n",
       "      <th>18</th>\n",
       "      <td>9.403620e+01</td>\n",
       "      <td>9.402574e+01</td>\n",
       "      <td>9.402574e+01</td>\n",
       "      <td>9.402574e+01</td>\n",
       "      <td>0.000000e+00</td>\n",
       "    </tr>\n",
       "    <tr>\n",
       "      <th>19</th>\n",
       "      <td>9.403035e+01</td>\n",
       "      <td>9.402973e+01</td>\n",
       "      <td>9.402973e+01</td>\n",
       "      <td>9.402973e+01</td>\n",
       "      <td>0.000000e+00</td>\n",
       "    </tr>\n",
       "    <tr>\n",
       "      <th>20</th>\n",
       "      <td>9.402542e+01</td>\n",
       "      <td>9.402538e+01</td>\n",
       "      <td>9.402538e+01</td>\n",
       "      <td>9.402538e+01</td>\n",
       "      <td>0.000000e+00</td>\n",
       "    </tr>\n",
       "    <tr>\n",
       "      <th>21</th>\n",
       "      <td>9.402127e+01</td>\n",
       "      <td>9.402127e+01</td>\n",
       "      <td>9.402127e+01</td>\n",
       "      <td>9.402127e+01</td>\n",
       "      <td>0.000000e+00</td>\n",
       "    </tr>\n",
       "    <tr>\n",
       "      <th>22</th>\n",
       "      <td>9.401779e+01</td>\n",
       "      <td>9.401779e+01</td>\n",
       "      <td>9.401779e+01</td>\n",
       "      <td>9.401779e+01</td>\n",
       "      <td>0.000000e+00</td>\n",
       "    </tr>\n",
       "    <tr>\n",
       "      <th>23</th>\n",
       "      <td>9.401487e+01</td>\n",
       "      <td>9.401487e+01</td>\n",
       "      <td>9.401487e+01</td>\n",
       "      <td>9.401487e+01</td>\n",
       "      <td>0.000000e+00</td>\n",
       "    </tr>\n",
       "    <tr>\n",
       "      <th>24</th>\n",
       "      <td>9.401242e+01</td>\n",
       "      <td>9.401242e+01</td>\n",
       "      <td>9.401242e+01</td>\n",
       "      <td>9.401242e+01</td>\n",
       "      <td>0.000000e+00</td>\n",
       "    </tr>\n",
       "    <tr>\n",
       "      <th>25</th>\n",
       "      <td>9.401037e+01</td>\n",
       "      <td>9.401037e+01</td>\n",
       "      <td>9.401037e+01</td>\n",
       "      <td>9.401037e+01</td>\n",
       "      <td>8.881784e-16</td>\n",
       "    </tr>\n",
       "    <tr>\n",
       "      <th>26</th>\n",
       "      <td>9.400866e+01</td>\n",
       "      <td>9.400866e+01</td>\n",
       "      <td>9.400866e+01</td>\n",
       "      <td>9.400866e+01</td>\n",
       "      <td>1.243450e-14</td>\n",
       "    </tr>\n",
       "    <tr>\n",
       "      <th>27</th>\n",
       "      <td>9.400723e+01</td>\n",
       "      <td>9.400723e+01</td>\n",
       "      <td>9.400723e+01</td>\n",
       "      <td>9.400723e+01</td>\n",
       "      <td>2.033929e-13</td>\n",
       "    </tr>\n",
       "    <tr>\n",
       "      <th>28</th>\n",
       "      <td>9.400603e+01</td>\n",
       "      <td>9.400603e+01</td>\n",
       "      <td>9.400603e+01</td>\n",
       "      <td>9.400603e+01</td>\n",
       "      <td>3.398171e-12</td>\n",
       "    </tr>\n",
       "    <tr>\n",
       "      <th>29</th>\n",
       "      <td>9.400503e+01</td>\n",
       "      <td>9.400503e+01</td>\n",
       "      <td>9.400503e+01</td>\n",
       "      <td>9.400503e+01</td>\n",
       "      <td>5.669598e-11</td>\n",
       "    </tr>\n",
       "    <tr>\n",
       "      <th>30</th>\n",
       "      <td>9.400420e+01</td>\n",
       "      <td>9.400420e+01</td>\n",
       "      <td>9.400420e+01</td>\n",
       "      <td>9.400420e+01</td>\n",
       "      <td>9.457288e-10</td>\n",
       "    </tr>\n",
       "    <tr>\n",
       "      <th>31</th>\n",
       "      <td>9.400350e+01</td>\n",
       "      <td>9.400350e+01</td>\n",
       "      <td>9.400350e+01</td>\n",
       "      <td>9.400350e+01</td>\n",
       "      <td>1.577307e-08</td>\n",
       "    </tr>\n",
       "    <tr>\n",
       "      <th>32</th>\n",
       "      <td>9.400292e+01</td>\n",
       "      <td>9.400292e+01</td>\n",
       "      <td>9.400292e+01</td>\n",
       "      <td>9.400292e+01</td>\n",
       "      <td>2.630362e-07</td>\n",
       "    </tr>\n",
       "    <tr>\n",
       "      <th>33</th>\n",
       "      <td>9.400243e+01</td>\n",
       "      <td>9.400243e+01</td>\n",
       "      <td>9.400243e+01</td>\n",
       "      <td>9.400243e+01</td>\n",
       "      <td>4.386046e-06</td>\n",
       "    </tr>\n",
       "    <tr>\n",
       "      <th>34</th>\n",
       "      <td>9.400203e+01</td>\n",
       "      <td>9.400203e+01</td>\n",
       "      <td>9.400203e+01</td>\n",
       "      <td>9.400203e+01</td>\n",
       "      <td>7.313003e-05</td>\n",
       "    </tr>\n",
       "  </tbody>\n",
       "</table>\n",
       "</div>"
      ],
      "text/plain": [
       "       C++ float    C++ double  C++ long double  Python float  Python Decimal\n",
       "0   0.000000e+00  0.000000e+00     0.000000e+00  0.000000e+00    0.000000e+00\n",
       "1   4.334883e-08  0.000000e+00     8.881784e-16  0.000000e+00    0.000000e+00\n",
       "2   7.379250e-06  1.332268e-14     1.332268e-14  1.421085e-14    0.000000e+00\n",
       "3   1.455626e-04  2.620126e-13     2.620126e-13  2.620126e-13    0.000000e+00\n",
       "4   2.598144e-03  4.650502e-12     4.650502e-12  4.650502e-12    0.000000e+00\n",
       "5   4.580281e-02  8.192558e-11     8.192558e-11  8.192558e-11    0.000000e+00\n",
       "6   8.078749e-01  1.433402e-09     1.433402e-09  1.433402e-09    0.000000e+00\n",
       "7   1.634397e+01  2.492390e-08     2.492390e-08  2.492390e-08    0.000000e+00\n",
       "8   1.546924e+02  4.309393e-07     4.309393e-07  4.309393e-07    0.000000e+00\n",
       "9   9.635237e+01  7.413449e-06     7.413449e-06  7.413449e-06    0.000000e+00\n",
       "10  9.426412e+01  1.269620e-04     1.269620e-04  1.269620e-04    0.000000e+00\n",
       "11  9.412594e+01  2.165718e-03     2.165718e-03  2.165718e-03    0.000000e+00\n",
       "12  9.410127e+01  3.680281e-02     3.680281e-02  3.680281e-02    0.000000e+00\n",
       "13  9.408550e+01  6.198967e-01     6.198967e-01  6.198967e-01    0.000000e+00\n",
       "14  9.407226e+01  9.485302e+00     9.485302e+00  9.485302e+00    0.000000e+00\n",
       "15  9.406095e+01  6.153335e+01     6.153335e+01  6.153335e+01    0.000000e+00\n",
       "16  9.405131e+01  9.118846e+01     9.118846e+01  9.118846e+01    0.000000e+00\n",
       "17  9.404313e+01  9.386782e+01     9.386782e+01  9.386782e+01    0.000000e+00\n",
       "18  9.403620e+01  9.402574e+01     9.402574e+01  9.402574e+01    0.000000e+00\n",
       "19  9.403035e+01  9.402973e+01     9.402973e+01  9.402973e+01    0.000000e+00\n",
       "20  9.402542e+01  9.402538e+01     9.402538e+01  9.402538e+01    0.000000e+00\n",
       "21  9.402127e+01  9.402127e+01     9.402127e+01  9.402127e+01    0.000000e+00\n",
       "22  9.401779e+01  9.401779e+01     9.401779e+01  9.401779e+01    0.000000e+00\n",
       "23  9.401487e+01  9.401487e+01     9.401487e+01  9.401487e+01    0.000000e+00\n",
       "24  9.401242e+01  9.401242e+01     9.401242e+01  9.401242e+01    0.000000e+00\n",
       "25  9.401037e+01  9.401037e+01     9.401037e+01  9.401037e+01    8.881784e-16\n",
       "26  9.400866e+01  9.400866e+01     9.400866e+01  9.400866e+01    1.243450e-14\n",
       "27  9.400723e+01  9.400723e+01     9.400723e+01  9.400723e+01    2.033929e-13\n",
       "28  9.400603e+01  9.400603e+01     9.400603e+01  9.400603e+01    3.398171e-12\n",
       "29  9.400503e+01  9.400503e+01     9.400503e+01  9.400503e+01    5.669598e-11\n",
       "30  9.400420e+01  9.400420e+01     9.400420e+01  9.400420e+01    9.457288e-10\n",
       "31  9.400350e+01  9.400350e+01     9.400350e+01  9.400350e+01    1.577307e-08\n",
       "32  9.400292e+01  9.400292e+01     9.400292e+01  9.400292e+01    2.630362e-07\n",
       "33  9.400243e+01  9.400243e+01     9.400243e+01  9.400243e+01    4.386046e-06\n",
       "34  9.400203e+01  9.400203e+01     9.400203e+01  9.400203e+01    7.313003e-05"
      ]
     },
     "execution_count": 32,
     "metadata": {},
     "output_type": "execute_result"
    }
   ],
   "source": [
    "df_abs_err = df.sub(df['Python Fraction'], axis='rows').abs().drop(columns='Python Fraction')\n",
    "df_abs_err"
   ]
  },
  {
   "cell_type": "markdown",
   "id": "923280b6",
   "metadata": {},
   "source": [
    "&nbsp;&nbsp;&nbsp;&nbsp;&nbsp;&nbsp;&nbsp;&nbsp;&nbsp;&nbsp;&nbsp;&nbsp;&nbsp;&nbsp;&nbsp;&nbsp;&nbsp;&nbsp;&nbsp;&nbsp;&nbsp;&nbsp;&nbsp;&nbsp;Tabela 2: Błąd bezwzględny obliczonych wartości"
   ]
  },
  {
   "cell_type": "markdown",
   "id": "8a45d9c4",
   "metadata": {},
   "source": [
    "#### Wykres"
   ]
  },
  {
   "cell_type": "code",
   "execution_count": 33,
   "id": "473283f7",
   "metadata": {},
   "outputs": [
    {
     "data": {
      "image/png": "[encoded data removed]",
      "text/plain": [
       "<Figure size 1080x540 with 1 Axes>"
      ]
     },
     "metadata": {},
     "output_type": "display_data"
    }
   ],
   "source": [
    "plt.figure(figsize=(15, 7.5))\n",
    "sns.lineplot(data=df_abs_err, markers=True, dashes=False)\n",
    "pass"
   ]
  },
  {
   "cell_type": "markdown",
   "id": "9aece772",
   "metadata": {},
   "source": [
    "&nbsp;&nbsp;&nbsp;&nbsp;&nbsp;&nbsp;&nbsp;&nbsp;&nbsp;&nbsp;&nbsp;&nbsp;&nbsp;&nbsp;&nbsp;Wykres 6: Porównanie błędów bezwzględnych dla wszystkich wartości"
   ]
  },
  {
   "cell_type": "markdown",
   "id": "6860fefc",
   "metadata": {},
   "source": [
    "### Błąd względny"
   ]
  },
  {
   "cell_type": "markdown",
   "id": "6e2d7421",
   "metadata": {},
   "source": [
    "Błąd względny obliczam, korzystając ze wzoru:\n",
    "\n",
    "$\\Large\\frac{ |x_{i(z)} - x_{i}| }{x_i}$\n",
    "\n",
    "gdzie:\n",
    "- $x_{i(z)}$ - wartość zmierzona $i$. wyrazu ciągu,\n",
    "- $x_{i}$ - wartość rzeczywista $i$. wyrazu ciągu"
   ]
  },
  {
   "cell_type": "markdown",
   "id": "ddb27509",
   "metadata": {},
   "source": [
    "#### Wartości błędów"
   ]
  },
  {
   "cell_type": "code",
   "execution_count": 34,
   "id": "3f3a156f",
   "metadata": {
    "scrolled": true
   },
   "outputs": [
    {
     "data": {
      "text/html": [
       "<div>\n",
       "<style scoped>\n",
       "    .dataframe tbody tr th:only-of-type {\n",
       "        vertical-align: middle;\n",
       "    }\n",
       "\n",
       "    .dataframe tbody tr th {\n",
       "        vertical-align: top;\n",
       "    }\n",
       "\n",
       "    .dataframe thead th {\n",
       "        text-align: right;\n",
       "    }\n",
       "</style>\n",
       "<table border=\"1\" class=\"dataframe\">\n",
       "  <thead>\n",
       "    <tr style=\"text-align: right;\">\n",
       "      <th></th>\n",
       "      <th>C++ float</th>\n",
       "      <th>C++ double</th>\n",
       "      <th>C++ long double</th>\n",
       "      <th>Python float</th>\n",
       "      <th>Python Decimal</th>\n",
       "    </tr>\n",
       "  </thead>\n",
       "  <tbody>\n",
       "    <tr>\n",
       "      <th>0</th>\n",
       "      <td>0.00%</td>\n",
       "      <td>0.00%</td>\n",
       "      <td>0.00%</td>\n",
       "      <td>0.00%</td>\n",
       "      <td>0.00%</td>\n",
       "    </tr>\n",
       "    <tr>\n",
       "      <th>1</th>\n",
       "      <td>0.00%</td>\n",
       "      <td>0.00%</td>\n",
       "      <td>0.00%</td>\n",
       "      <td>0.00%</td>\n",
       "      <td>0.00%</td>\n",
       "    </tr>\n",
       "    <tr>\n",
       "      <th>2</th>\n",
       "      <td>0.00%</td>\n",
       "      <td>0.00%</td>\n",
       "      <td>0.00%</td>\n",
       "      <td>0.00%</td>\n",
       "      <td>0.00%</td>\n",
       "    </tr>\n",
       "    <tr>\n",
       "      <th>3</th>\n",
       "      <td>0.00%</td>\n",
       "      <td>0.00%</td>\n",
       "      <td>0.00%</td>\n",
       "      <td>0.00%</td>\n",
       "      <td>0.00%</td>\n",
       "    </tr>\n",
       "    <tr>\n",
       "      <th>4</th>\n",
       "      <td>0.05%</td>\n",
       "      <td>0.00%</td>\n",
       "      <td>0.00%</td>\n",
       "      <td>0.00%</td>\n",
       "      <td>0.00%</td>\n",
       "    </tr>\n",
       "    <tr>\n",
       "      <th>5</th>\n",
       "      <td>0.80%</td>\n",
       "      <td>0.00%</td>\n",
       "      <td>0.00%</td>\n",
       "      <td>0.00%</td>\n",
       "      <td>0.00%</td>\n",
       "    </tr>\n",
       "    <tr>\n",
       "      <th>6</th>\n",
       "      <td>14.05%</td>\n",
       "      <td>0.00%</td>\n",
       "      <td>0.00%</td>\n",
       "      <td>0.00%</td>\n",
       "      <td>0.00%</td>\n",
       "    </tr>\n",
       "    <tr>\n",
       "      <th>7</th>\n",
       "      <td>282.68%</td>\n",
       "      <td>0.00%</td>\n",
       "      <td>0.00%</td>\n",
       "      <td>0.00%</td>\n",
       "      <td>0.00%</td>\n",
       "    </tr>\n",
       "    <tr>\n",
       "      <th>8</th>\n",
       "      <td>2661.92%</td>\n",
       "      <td>0.00%</td>\n",
       "      <td>0.00%</td>\n",
       "      <td>0.00%</td>\n",
       "      <td>0.00%</td>\n",
       "    </tr>\n",
       "    <tr>\n",
       "      <th>9</th>\n",
       "      <td>1650.53%</td>\n",
       "      <td>0.00%</td>\n",
       "      <td>0.00%</td>\n",
       "      <td>0.00%</td>\n",
       "      <td>0.00%</td>\n",
       "    </tr>\n",
       "    <tr>\n",
       "      <th>10</th>\n",
       "      <td>1608.34%</td>\n",
       "      <td>0.00%</td>\n",
       "      <td>0.00%</td>\n",
       "      <td>0.00%</td>\n",
       "      <td>0.00%</td>\n",
       "    </tr>\n",
       "    <tr>\n",
       "      <th>11</th>\n",
       "      <td>1600.41%</td>\n",
       "      <td>0.04%</td>\n",
       "      <td>0.04%</td>\n",
       "      <td>0.04%</td>\n",
       "      <td>0.00%</td>\n",
       "    </tr>\n",
       "    <tr>\n",
       "      <th>12</th>\n",
       "      <td>1595.17%</td>\n",
       "      <td>0.62%</td>\n",
       "      <td>0.62%</td>\n",
       "      <td>0.62%</td>\n",
       "      <td>0.00%</td>\n",
       "    </tr>\n",
       "    <tr>\n",
       "      <th>13</th>\n",
       "      <td>1590.75%</td>\n",
       "      <td>10.48%</td>\n",
       "      <td>10.48%</td>\n",
       "      <td>10.48%</td>\n",
       "      <td>0.00%</td>\n",
       "    </tr>\n",
       "    <tr>\n",
       "      <th>14</th>\n",
       "      <td>1586.98%</td>\n",
       "      <td>160.02%</td>\n",
       "      <td>160.02%</td>\n",
       "      <td>160.02%</td>\n",
       "      <td>0.00%</td>\n",
       "    </tr>\n",
       "    <tr>\n",
       "      <th>15</th>\n",
       "      <td>1583.77%</td>\n",
       "      <td>1036.08%</td>\n",
       "      <td>1036.08%</td>\n",
       "      <td>1036.08%</td>\n",
       "      <td>0.00%</td>\n",
       "    </tr>\n",
       "    <tr>\n",
       "      <th>16</th>\n",
       "      <td>1581.04%</td>\n",
       "      <td>1532.92%</td>\n",
       "      <td>1532.92%</td>\n",
       "      <td>1532.92%</td>\n",
       "      <td>0.00%</td>\n",
       "    </tr>\n",
       "    <tr>\n",
       "      <th>17</th>\n",
       "      <td>1578.73%</td>\n",
       "      <td>1575.79%</td>\n",
       "      <td>1575.79%</td>\n",
       "      <td>1575.79%</td>\n",
       "      <td>0.00%</td>\n",
       "    </tr>\n",
       "    <tr>\n",
       "      <th>18</th>\n",
       "      <td>1576.78%</td>\n",
       "      <td>1576.61%</td>\n",
       "      <td>1576.61%</td>\n",
       "      <td>1576.61%</td>\n",
       "      <td>0.00%</td>\n",
       "    </tr>\n",
       "    <tr>\n",
       "      <th>19</th>\n",
       "      <td>1575.14%</td>\n",
       "      <td>1575.13%</td>\n",
       "      <td>1575.13%</td>\n",
       "      <td>1575.13%</td>\n",
       "      <td>0.00%</td>\n",
       "    </tr>\n",
       "    <tr>\n",
       "      <th>20</th>\n",
       "      <td>1573.76%</td>\n",
       "      <td>1573.76%</td>\n",
       "      <td>1573.76%</td>\n",
       "      <td>1573.76%</td>\n",
       "      <td>0.00%</td>\n",
       "    </tr>\n",
       "    <tr>\n",
       "      <th>21</th>\n",
       "      <td>1572.60%</td>\n",
       "      <td>1572.60%</td>\n",
       "      <td>1572.60%</td>\n",
       "      <td>1572.60%</td>\n",
       "      <td>0.00%</td>\n",
       "    </tr>\n",
       "    <tr>\n",
       "      <th>22</th>\n",
       "      <td>1571.62%</td>\n",
       "      <td>1571.62%</td>\n",
       "      <td>1571.62%</td>\n",
       "      <td>1571.62%</td>\n",
       "      <td>0.00%</td>\n",
       "    </tr>\n",
       "    <tr>\n",
       "      <th>23</th>\n",
       "      <td>1570.81%</td>\n",
       "      <td>1570.81%</td>\n",
       "      <td>1570.81%</td>\n",
       "      <td>1570.81%</td>\n",
       "      <td>0.00%</td>\n",
       "    </tr>\n",
       "    <tr>\n",
       "      <th>24</th>\n",
       "      <td>1570.12%</td>\n",
       "      <td>1570.12%</td>\n",
       "      <td>1570.12%</td>\n",
       "      <td>1570.12%</td>\n",
       "      <td>0.00%</td>\n",
       "    </tr>\n",
       "    <tr>\n",
       "      <th>25</th>\n",
       "      <td>1569.55%</td>\n",
       "      <td>1569.55%</td>\n",
       "      <td>1569.55%</td>\n",
       "      <td>1569.55%</td>\n",
       "      <td>0.00%</td>\n",
       "    </tr>\n",
       "    <tr>\n",
       "      <th>26</th>\n",
       "      <td>1569.08%</td>\n",
       "      <td>1569.08%</td>\n",
       "      <td>1569.08%</td>\n",
       "      <td>1569.08%</td>\n",
       "      <td>0.00%</td>\n",
       "    </tr>\n",
       "    <tr>\n",
       "      <th>27</th>\n",
       "      <td>1568.68%</td>\n",
       "      <td>1568.68%</td>\n",
       "      <td>1568.68%</td>\n",
       "      <td>1568.68%</td>\n",
       "      <td>0.00%</td>\n",
       "    </tr>\n",
       "    <tr>\n",
       "      <th>28</th>\n",
       "      <td>1568.34%</td>\n",
       "      <td>1568.34%</td>\n",
       "      <td>1568.34%</td>\n",
       "      <td>1568.34%</td>\n",
       "      <td>0.00%</td>\n",
       "    </tr>\n",
       "    <tr>\n",
       "      <th>29</th>\n",
       "      <td>1568.07%</td>\n",
       "      <td>1568.07%</td>\n",
       "      <td>1568.07%</td>\n",
       "      <td>1568.07%</td>\n",
       "      <td>0.00%</td>\n",
       "    </tr>\n",
       "    <tr>\n",
       "      <th>30</th>\n",
       "      <td>1567.83%</td>\n",
       "      <td>1567.83%</td>\n",
       "      <td>1567.83%</td>\n",
       "      <td>1567.83%</td>\n",
       "      <td>0.00%</td>\n",
       "    </tr>\n",
       "    <tr>\n",
       "      <th>31</th>\n",
       "      <td>1567.64%</td>\n",
       "      <td>1567.64%</td>\n",
       "      <td>1567.64%</td>\n",
       "      <td>1567.64%</td>\n",
       "      <td>0.00%</td>\n",
       "    </tr>\n",
       "    <tr>\n",
       "      <th>32</th>\n",
       "      <td>1567.48%</td>\n",
       "      <td>1567.48%</td>\n",
       "      <td>1567.48%</td>\n",
       "      <td>1567.48%</td>\n",
       "      <td>0.00%</td>\n",
       "    </tr>\n",
       "    <tr>\n",
       "      <th>33</th>\n",
       "      <td>1567.34%</td>\n",
       "      <td>1567.34%</td>\n",
       "      <td>1567.34%</td>\n",
       "      <td>1567.34%</td>\n",
       "      <td>0.00%</td>\n",
       "    </tr>\n",
       "    <tr>\n",
       "      <th>34</th>\n",
       "      <td>1567.23%</td>\n",
       "      <td>1567.23%</td>\n",
       "      <td>1567.23%</td>\n",
       "      <td>1567.23%</td>\n",
       "      <td>0.00%</td>\n",
       "    </tr>\n",
       "  </tbody>\n",
       "</table>\n",
       "</div>"
      ],
      "text/plain": [
       "   C++ float C++ double C++ long double Python float Python Decimal\n",
       "0      0.00%      0.00%           0.00%        0.00%          0.00%\n",
       "1      0.00%      0.00%           0.00%        0.00%          0.00%\n",
       "2      0.00%      0.00%           0.00%        0.00%          0.00%\n",
       "3      0.00%      0.00%           0.00%        0.00%          0.00%\n",
       "4      0.05%      0.00%           0.00%        0.00%          0.00%\n",
       "5      0.80%      0.00%           0.00%        0.00%          0.00%\n",
       "6     14.05%      0.00%           0.00%        0.00%          0.00%\n",
       "7    282.68%      0.00%           0.00%        0.00%          0.00%\n",
       "8   2661.92%      0.00%           0.00%        0.00%          0.00%\n",
       "9   1650.53%      0.00%           0.00%        0.00%          0.00%\n",
       "10  1608.34%      0.00%           0.00%        0.00%          0.00%\n",
       "11  1600.41%      0.04%           0.04%        0.04%          0.00%\n",
       "12  1595.17%      0.62%           0.62%        0.62%          0.00%\n",
       "13  1590.75%     10.48%          10.48%       10.48%          0.00%\n",
       "14  1586.98%    160.02%         160.02%      160.02%          0.00%\n",
       "15  1583.77%   1036.08%        1036.08%     1036.08%          0.00%\n",
       "16  1581.04%   1532.92%        1532.92%     1532.92%          0.00%\n",
       "17  1578.73%   1575.79%        1575.79%     1575.79%          0.00%\n",
       "18  1576.78%   1576.61%        1576.61%     1576.61%          0.00%\n",
       "19  1575.14%   1575.13%        1575.13%     1575.13%          0.00%\n",
       "20  1573.76%   1573.76%        1573.76%     1573.76%          0.00%\n",
       "21  1572.60%   1572.60%        1572.60%     1572.60%          0.00%\n",
       "22  1571.62%   1571.62%        1571.62%     1571.62%          0.00%\n",
       "23  1570.81%   1570.81%        1570.81%     1570.81%          0.00%\n",
       "24  1570.12%   1570.12%        1570.12%     1570.12%          0.00%\n",
       "25  1569.55%   1569.55%        1569.55%     1569.55%          0.00%\n",
       "26  1569.08%   1569.08%        1569.08%     1569.08%          0.00%\n",
       "27  1568.68%   1568.68%        1568.68%     1568.68%          0.00%\n",
       "28  1568.34%   1568.34%        1568.34%     1568.34%          0.00%\n",
       "29  1568.07%   1568.07%        1568.07%     1568.07%          0.00%\n",
       "30  1567.83%   1567.83%        1567.83%     1567.83%          0.00%\n",
       "31  1567.64%   1567.64%        1567.64%     1567.64%          0.00%\n",
       "32  1567.48%   1567.48%        1567.48%     1567.48%          0.00%\n",
       "33  1567.34%   1567.34%        1567.34%     1567.34%          0.00%\n",
       "34  1567.23%   1567.23%        1567.23%     1567.23%          0.00%"
      ]
     },
     "execution_count": 34,
     "metadata": {},
     "output_type": "execute_result"
    }
   ],
   "source": [
    "df_rel_err = df_abs_err.divide(df['Python Fraction'], axis='rows')\n",
    "(df_rel_err * 100).applymap('{:.2f}%'.format)"
   ]
  },
  {
   "cell_type": "markdown",
   "id": "2e7db61d",
   "metadata": {},
   "source": [
    "&nbsp;&nbsp;&nbsp;&nbsp;&nbsp;&nbsp;&nbsp;&nbsp;&nbsp;&nbsp;&nbsp;&nbsp;&nbsp;&nbsp;&nbsp;&nbsp;&nbsp;&nbsp;&nbsp;&nbsp;&nbsp;&nbsp;&nbsp;&nbsp;&nbsp;Tabela 3: Błąd względny obliczonych wartości"
   ]
  },
  {
   "cell_type": "markdown",
   "id": "260e8035",
   "metadata": {},
   "source": [
    "#### Wykres"
   ]
  },
  {
   "cell_type": "code",
   "execution_count": 35,
   "id": "4d1acf75",
   "metadata": {},
   "outputs": [
    {
     "data": {
      "image/png": "[encoded data removed]",
      "text/plain": [
       "<Figure size 1080x540 with 1 Axes>"
      ]
     },
     "metadata": {},
     "output_type": "display_data"
    }
   ],
   "source": [
    "plt.figure(figsize=(15, 7.5))\n",
    "g = sns.lineplot(data=(df_rel_err * 100), markers=True, dashes=False)\n",
    "ticks_loc = g.get_yticks().tolist()\n",
    "g.yaxis.set_major_locator(mticker.FixedLocator(ticks_loc))\n",
    "g.set_yticklabels([f'{v}%' for v in g.get_yticks()])\n",
    "pass"
   ]
  },
  {
   "cell_type": "markdown",
   "id": "db2937f4",
   "metadata": {},
   "source": [
    "&nbsp;&nbsp;&nbsp;&nbsp;&nbsp;&nbsp;&nbsp;&nbsp;&nbsp;&nbsp;&nbsp;&nbsp;&nbsp;&nbsp;&nbsp;&nbsp;&nbsp;&nbsp;Wykres 7: Porównanie błędów względnych obliczonych wartości"
   ]
  },
  {
   "cell_type": "markdown",
   "id": "587be57a",
   "metadata": {},
   "source": [
    "# Wnioski"
   ]
  },
  {
   "cell_type": "markdown",
   "id": "1d5b5f03",
   "metadata": {},
   "source": [
    "Przeprowadzona analiza pokazuje, że dokładność, z jaką reprezentowane są liczby zmiennoprzecinkowe, ma znaczący wpływ na dokładność wyników obliczeń. W celu uzyskania dokładnych wyników, potrzebna była precyzja równa przynajmniej $46$ cyfr znaczących, dlatego wyniki, jakie otrzymałem dla zmiennych typu ```float```, ```double``` oraz ```long double``` znacząco odbiegały od rzeczywistych wartości wyrazów ciągu.\n",
    "\n",
    "\n",
    "Mogliśmy również zaobserwować, że typ ```long double``` niekoniecznie gwarantuje zwiększenie precyzji obliczeń względem typu ```double```. Wynika to stąd, że precyzja dla typu ```long double``` musi być przynajmniej taka jak dla ```double```, ale nie jest konieczne, żeby była ona większa. \n",
    "Program testowałem na komputerze z systemem operacyjnym Windows 10, a także na wirtualnej maszynie z systemem operacyjnym Ubuntu 20.04. W obu przypadkach otrzymałem takie same wyniki dla zmiennych typu ```double``` oraz ```long double```.\n",
    "\n",
    "\n",
    "Na niedokładność wyników obliczeń znaczący wpływ miał **błąd zaokrąglenia**. \n",
    "\n",
    "Już przed rozpoczęciem obliczeń wyraz ciągu $x_1$ nie jest reprezentowany precyzyjnie, ponieważ jego wartość to ułamek $\\frac{61}{11}$ o nieskończonym rozwinięciu okresowym $5.(54)$. W komputerze nie jest możliwe reprezentowanie nieskończonych liczb, więc zachowane zostaje jedynie kilka początkowych cyfr tego rozwinięcia,\n",
    "Z błędem zaokrąglenia mamy także do czynienia podczas obliczania każdego kolejnego wyrazu ciągu, ponieważ otrzymywane wartości muszą być zaokrąglane do ograniczonej liczby cyfr znaczących."
   ]
  }
 ],
 "metadata": {
  "kernelspec": {
   "display_name": "Python 3 (ipykernel)",
   "language": "python",
   "name": "python3"
  },
  "language_info": {
   "codemirror_mode": {
    "name": "ipython",
    "version": 3
   },
   "file_extension": ".py",
   "mimetype": "text/x-python",
   "name": "python",
   "nbconvert_exporter": "python",
   "pygments_lexer": "ipython3",
   "version": "3.10.0"
  }
 },
 "nbformat": 4,
 "nbformat_minor": 5
}
