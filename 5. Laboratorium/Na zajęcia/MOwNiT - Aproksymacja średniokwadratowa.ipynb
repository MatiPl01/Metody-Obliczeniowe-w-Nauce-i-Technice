{
 "cells": [
  {
   "cell_type": "markdown",
   "id": "a3fb02ab",
   "metadata": {},
   "source": [
    "# Dane techniczne sprzętu"
   ]
  },
  {
   "cell_type": "markdown",
   "id": "c1b1950e",
   "metadata": {},
   "source": [
    "Obliczenia zostały wykonane na komputerze o następujących parametrach:\n",
    "\n",
    "- Procesor: AMD Ryzen $7$ $4700$U ($8$ rdzeni, $8$ wątków),\n",
    "\n",
    "- Pamięć RAM: $16$ GB $3200$ MHz"
   ]
  },
  {
   "cell_type": "markdown",
   "id": "80b7771a",
   "metadata": {},
   "source": [
    "# Biblioteki"
   ]
  },
  {
   "cell_type": "code",
   "execution_count": 2,
   "id": "b9d8c2fd",
   "metadata": {},
   "outputs": [],
   "source": [
    "import math\n",
    "import numpy as np\n",
    "import pandas as pd\n",
    "from matplotlib import pyplot as plt\n",
    "import seaborn as sns\n",
    "from tabulate import tabulate"
   ]
  },
  {
   "cell_type": "markdown",
   "id": "48777562",
   "metadata": {},
   "source": [
    "# Pomocnicze funkcje"
   ]
  },
  {
   "cell_type": "markdown",
   "id": "ffaca7bc",
   "metadata": {},
   "source": [
    "## Dokładność aproksymacji"
   ]
  },
  {
   "cell_type": "markdown",
   "id": "b948b530",
   "metadata": {},
   "source": [
    "### Wykorzystane wskaźniki"
   ]
  },
  {
   "cell_type": "markdown",
   "id": "ddd86fc3",
   "metadata": {},
   "source": [
    "Przyjmijmy następujące oznaczenia:\n",
    "\n",
    "$f(x)$ - aproksymowana funkcja (funkcja wzorcowa)\n",
    "\n",
    "$W(x)$ - aproksymujący wielomian algebraiczny (przybliżający funkcję wzorcową)"
   ]
  },
  {
   "cell_type": "markdown",
   "id": "9d5d976e",
   "metadata": {},
   "source": [
    "#### Norma z różnicy"
   ]
  },
  {
   "cell_type": "markdown",
   "id": "5be960eb",
   "metadata": {},
   "source": [
    "$||f(x)-W(x)||$"
   ]
  },
  {
   "cell_type": "code",
   "execution_count": 3,
   "id": "0c96476c",
   "metadata": {},
   "outputs": [],
   "source": [
    "def abs_diff(f, W, xs):\n",
    "    return [abs(f(x) - W(x)) for x in xs]"
   ]
  },
  {
   "cell_type": "markdown",
   "id": "63844faf",
   "metadata": {},
   "source": [
    "#### Największa różnica"
   ]
  },
  {
   "cell_type": "markdown",
   "id": "8162e3e1",
   "metadata": {},
   "source": [
    "$max_k\\{||f(x_k)-W(x_k)||\\}$"
   ]
  },
  {
   "cell_type": "code",
   "execution_count": 4,
   "id": "a3ff6884",
   "metadata": {},
   "outputs": [],
   "source": [
    "def max_diff(f, W, xs):\n",
    "    return max(abs_diff(f, W, xs))"
   ]
  },
  {
   "cell_type": "markdown",
   "id": "e5fc46f9",
   "metadata": {},
   "source": [
    "#### Suma kwadratów różnic"
   ]
  },
  {
   "cell_type": "markdown",
   "id": "be9fa270",
   "metadata": {},
   "source": [
    "$\\sum\\limits_{i = 1}^{N} (f(x_i) - W(x_i))^2$"
   ]
  },
  {
   "cell_type": "code",
   "execution_count": 5,
   "id": "d3420162",
   "metadata": {},
   "outputs": [],
   "source": [
    "def sum_sq_diff(f, W, xs):\n",
    "    return sum(d ** 2 for d in abs_diff(f, W, xs))"
   ]
  },
  {
   "cell_type": "markdown",
   "id": "48807acb",
   "metadata": {},
   "source": [
    "### Funkcja służąca do wyznaczania błędów"
   ]
  },
  {
   "cell_type": "code",
   "execution_count": 6,
   "id": "070167c8",
   "metadata": {},
   "outputs": [],
   "source": [
    "def show_error(f, Ws, a, b, N, *, prec=6):\n",
    "    xs = np.linspace(a, b, N)\n",
    "    \n",
    "    for W, label in Ws:\n",
    "        diffs = abs_diff(f, W, xs)\n",
    "        print(tabulate([\n",
    "                ('Największy bezwzględny błąd', max(diffs)),\n",
    "                ('Suma kwadratów różnic      ', sum(x ** 2 for x in diffs))\n",
    "            ], [\n",
    "                f'Interpolacja {label}'\n",
    "            ], tablefmt='fancy_grid', floatfmt=f'.{prec}f')\n",
    "        )"
   ]
  },
  {
   "cell_type": "markdown",
   "id": "28f41a41",
   "metadata": {},
   "source": [
    "## Tworzenie wykresu funkcji"
   ]
  },
  {
   "cell_type": "markdown",
   "id": "f68b8326",
   "metadata": {},
   "source": [
    "### Rysowanie pojedynczej funkcji na wykresie"
   ]
  },
  {
   "cell_type": "code",
   "execution_count": 7,
   "id": "7c54f84a",
   "metadata": {},
   "outputs": [],
   "source": [
    "def plot_fn(fn, a, b, *, label='', title='Wykres', color='b', step=.1, ax=plt):\n",
    "    n = int((b - a) / step) + 1\n",
    "    xs = np.linspace(a, b, n)\n",
    "    ys = np.vectorize(fn)(xs)\n",
    "    ax.plot(xs, ys, color, label=label)\n",
    "    if label: ax.legend(loc='best')\n",
    "    \n",
    "    if ax is plt:\n",
    "        ax.title(title)\n",
    "        ax.xlabel('x')\n",
    "        ax.ylabel('y')\n",
    "    else:\n",
    "        ax.title.set_text(title)\n",
    "        ax.set_xlabel('x')\n",
    "        ax.set_ylabel('y')\n",
    "    ax.grid()\n",
    "    \n",
    "    sns.despine()"
   ]
  },
  {
   "cell_type": "markdown",
   "id": "77513ec1",
   "metadata": {},
   "source": [
    "### Rysowanie kilku funkcji na jednym wykresie"
   ]
  },
  {
   "cell_type": "code",
   "execution_count": 8,
   "id": "02286efb",
   "metadata": {},
   "outputs": [],
   "source": [
    "class PlotFn:\n",
    "    def __init__(self, f, color='b', label=''):\n",
    "        self.f = f\n",
    "        self.color = color\n",
    "        self.label = label\n",
    "\n",
    "def plot_fns(fns: list[PlotFn], a, b, *, title='Wykres', step=.1, ax=plt):\n",
    "    for fn_obj in fns:\n",
    "        plot_fn(fn_obj.f, a, b, title=title, step=step, ax=ax, color=fn_obj.color, label=fn_obj.label)"
   ]
  },
  {
   "cell_type": "markdown",
   "id": "bb35993a",
   "metadata": {},
   "source": [
    "### Rysowanie wykresów funkcji i błędów"
   ]
  },
  {
   "cell_type": "code",
   "execution_count": 9,
   "id": "79eb7703",
   "metadata": {},
   "outputs": [],
   "source": [
    "class PlotApprox:\n",
    "    def __init__(self, approx_method, color='b', label='', args=(), kwargs={}):\n",
    "        self.im = approx_method\n",
    "        self.color = color\n",
    "        self.label = label\n",
    "        self.args = args\n",
    "        self.kwargs = kwargs\n",
    "\n",
    "def rich_plot(fn_obj: 'Funkcja wyjściowa', \n",
    "              im_objs: list[PlotApprox],\n",
    "              a, b, n, *, \n",
    "              step=.01, N=1000,\n",
    "              nodes_calc_method=np.linspace,\n",
    "              title_comp='Porównanie z wyjściową funkcją', \n",
    "              title_err='Błędy aproksymacji',\n",
    "              show_errors_details=False,\n",
    "              error_prec=6):\n",
    "    xs = nodes_calc_method(a, b, n)\n",
    "    ys = np.vectorize(fn_obj.f)(xs)\n",
    "    W_objs = [PlotFn(obj.im(xs, ys, *obj.args, **obj.kwargs), obj.color, obj.label) for obj in im_objs]\n",
    "    \n",
    "    fig, ax = plt.subplots(1, 2, figsize=(15, 4))\n",
    "    \n",
    "    # Compare approximation to the original function\n",
    "    fns = [fn_obj] + W_objs\n",
    "    plot_fns(fns, a, b, title=title_comp, step=step, ax=ax[0])\n",
    "    ax[0].scatter(xs, ys)\n",
    "    ax[0].grid(visible=True)\n",
    "    \n",
    "    # Create errors plot\n",
    "    xs_ = np.linspace(a, b, N)\n",
    "    \n",
    "    for i, W_obj in enumerate(W_objs):\n",
    "        diffs = abs_diff(fn_obj.f, W_obj.f, xs_)\n",
    "        ax[1].scatter(xs_, diffs, s=2, c=im_objs[i].color)\n",
    "    ax[1].set_title(title_err)\n",
    "    ax[1].grid(visible=True)\n",
    "    ax[1].set_xlabel('x')\n",
    "    ax[1].set_ylabel('y')\n",
    "    \n",
    "    plt.show()\n",
    "    \n",
    "    if show_errors_details:\n",
    "        show_error(fn_obj.f, [(W.f, W.label) for W in W_objs], a, b, N, prec=error_prec)"
   ]
  },
  {
   "cell_type": "markdown",
   "id": "294e64bc",
   "metadata": {},
   "source": [
    "## Wyznaczanie węzłów zgodnie z zerami wielomianu Czebyszewa"
   ]
  },
  {
   "cell_type": "code",
   "execution_count": 10,
   "id": "645d6264",
   "metadata": {},
   "outputs": [],
   "source": [
    "def chebyshev_nodes(a, b, n):\n",
    "    xs = []\n",
    "    for k in range(n, 0, -1):\n",
    "        xs.append(.5 * (a + b) + .5 * (b - a) * math.cos((2 * k - 1) / (2 * n) * math.pi))\n",
    "    return xs"
   ]
  },
  {
   "cell_type": "markdown",
   "id": "b47c4878",
   "metadata": {},
   "source": [
    "# Wyznaczanie aproksymowanej funkcji"
   ]
  },
  {
   "cell_type": "markdown",
   "id": "f1b866aa",
   "metadata": {},
   "source": [
    "## Badana funkcja"
   ]
  },
  {
   "cell_type": "code",
   "execution_count": 11,
   "id": "99175556",
   "metadata": {},
   "outputs": [],
   "source": [
    "f = lambda x, k, m: math.e ** (-k * math.sin(m * x)) + k * math.sin(m * x) - 1"
   ]
  },
  {
   "cell_type": "code",
   "execution_count": 12,
   "id": "2fd2fbc6",
   "metadata": {},
   "outputs": [],
   "source": [
    "a = -math.pi\n",
    "b = 2 * math.pi\n",
    "x = [a, b]\n",
    "\n",
    "def g(x):\n",
    "    k = 2\n",
    "    m = 2\n",
    "    return f(x, k, m)"
   ]
  },
  {
   "cell_type": "code",
   "execution_count": 13,
   "id": "609a2c52",
   "metadata": {},
   "outputs": [
    {
     "data": {
      "image/png": "[encoded data removed]",
      "text/plain": [
       "<Figure size 1080x360 with 1 Axes>"
      ]
     },
     "metadata": {
      "needs_background": "light"
     },
     "output_type": "display_data"
    }
   ],
   "source": [
    "plt.figure(figsize=(15, 5))\n",
    "plot_fn(g, a, b, step=.01)"
   ]
  },
  {
   "cell_type": "markdown",
   "id": "0ed94ac7",
   "metadata": {},
   "source": [
    "## Aproksymacja"
   ]
  },
  {
   "cell_type": "code",
   "execution_count": 14,
   "id": "802acad0",
   "metadata": {},
   "outputs": [],
   "source": [
    "def gauss_jordan(A, B):\n",
    "    n = len(B)\n",
    "    \n",
    "    for k in range(n):\n",
    "        # Partial pivoting\n",
    "        if np.fabs(A[k, k]) < 1e-12:\n",
    "            for i in range(k + 1, n):\n",
    "                if np.fabs(A[i, k]) > np.fabs(A[k, k]):\n",
    "                    # Swap rows\n",
    "                    A[[k, i]] = A[[i, k]]  \n",
    "                    B[[k, i]] = B[[i, k]]\n",
    "                    break\n",
    "        # Division of the pivot row\n",
    "        pivot = A[k, k]\n",
    "        A[k] /= pivot\n",
    "        B[k] /= pivot\n",
    "        # Elimination loop\n",
    "        for i in range(n):\n",
    "            if i == k or A[i, k] == 0: continue\n",
    "            factor = A[i, k]\n",
    "            A[i] -= factor * A[k]\n",
    "            B[i] -= factor * B[k]\n",
    "            \n",
    "    return B\n",
    "\n",
    "def mean_square_approximation(xs, ys, ws: 'weights', m: 'degree of a plynomial'):\n",
    "    if len(xs) != len(ys):\n",
    "        raise ValueError('List of x values and list of y values must have the same length')\n",
    "    \n",
    "    n = len(xs)\n",
    "    G = np.zeros((m, m), float)\n",
    "    B = np.zeros(m, float)\n",
    "    \n",
    "    sums = [sum(ws[i] * xs[i] ** k for i in range(n)) for k in range(2 * m + 1)]\n",
    "    \n",
    "    for j in range(m):\n",
    "        for k in range(m):\n",
    "            G[j, k] = sums[j + k]\n",
    "        \n",
    "        B[j] = sum(ws[i] * ys[i] * xs[i] ** j for i in range(n))\n",
    "        \n",
    "    A = gauss_jordan(G, B)\n",
    "    return lambda x: sum(A[i] * x ** i for i in range(m))"
   ]
  },
  {
   "cell_type": "markdown",
   "id": "146f2635",
   "metadata": {},
   "source": [
    "###### Testy"
   ]
  },
  {
   "cell_type": "code",
   "execution_count": 18,
   "id": "92f1450f",
   "metadata": {
    "scrolled": true
   },
   "outputs": [
    {
     "data": {
      "image/png": "[encoded data removed]",
      "text/plain": [
       "<Figure size 1080x288 with 2 Axes>"
      ]
     },
     "metadata": {
      "needs_background": "light"
     },
     "output_type": "display_data"
    },
    {
     "name": "stdout",
     "output_type": "stream",
     "text": [
      "╒═════════════════════════════╤══════════════════════════════════╕\n",
      "│                             │   Interpolacja średniokwadratowa │\n",
      "╞═════════════════════════════╪══════════════════════════════════╡\n",
      "│ Największy bezwzględny błąd │                         2.235408 │\n",
      "├─────────────────────────────┼──────────────────────────────────┤\n",
      "│ Suma kwadratów różnic       │                      1051.090595 │\n",
      "╘═════════════════════════════╧══════════════════════════════════╛\n"
     ]
    }
   ],
   "source": [
    "n = 15\n",
    "m = 10\n",
    "ws = [1] * n  # None of the nodes is more important than the other nodes\n",
    "\n",
    "\n",
    "xs = np.linspace(a, b, n)\n",
    "ys = np.vectorize(g)(xs)\n",
    "mean_square_approximation(xs, ys, ws, m)\n",
    "\n",
    "rich_plot(\n",
    "    PlotFn(g, \"#777\", \"Wyjściowa funkcja\"), \n",
    "    [\n",
    "        PlotApprox(mean_square_approximation, '#7A06C3', 'średniokwadratowa', args=(ws, m)),\n",
    "    ], \n",
    "    a, b, n,\n",
    "    show_errors_details=True\n",
    ")"
   ]
  },
  {
   "cell_type": "markdown",
   "id": "7f623c94",
   "metadata": {},
   "source": [
    "# TODO"
   ]
  },
  {
   "cell_type": "markdown",
   "id": "e3d91956",
   "metadata": {},
   "source": [
    "- Dla ustalonej liczby węzłów ustalamy, jaki wielomian najlepiej aproksymuje funkcję (jak w poprzednich zadaniach),\n",
    "- Dla ustalonego stopnia wielomianu, czy dodawanie węzłów polepsza wynik aproksymacji (jak wływa liczba węzłów na dokładność aprokscymacji przy ustalonym stopniu wielomianu)\n",
    "- Zacząć robić wielomiany trygonometryczne"
   ]
  }
 ],
 "metadata": {
  "kernelspec": {
   "display_name": "Python 3 (ipykernel)",
   "language": "python",
   "name": "python3"
  },
  "language_info": {
   "codemirror_mode": {
    "name": "ipython",
    "version": 3
   },
   "file_extension": ".py",
   "mimetype": "text/x-python",
   "name": "python",
   "nbconvert_exporter": "python",
   "pygments_lexer": "ipython3",
   "version": "3.10.0"
  }
 },
 "nbformat": 4,
 "nbformat_minor": 5
}
