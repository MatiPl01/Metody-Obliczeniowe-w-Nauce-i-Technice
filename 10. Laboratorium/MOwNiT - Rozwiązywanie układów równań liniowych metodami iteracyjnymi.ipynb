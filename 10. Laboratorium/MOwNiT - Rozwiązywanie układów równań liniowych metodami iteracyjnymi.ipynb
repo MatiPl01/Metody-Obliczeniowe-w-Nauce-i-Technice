{
 "cells": [
  {
   "cell_type": "markdown",
   "id": "a3fb02ab",
   "metadata": {},
   "source": [
    "# Dane techniczne sprzętu"
   ]
  },
  {
   "cell_type": "markdown",
   "id": "c1b1950e",
   "metadata": {},
   "source": [
    "Obliczenia zostały wykonane na komputerze o następujących parametrach:\n",
    "\n",
    "- Procesor: AMD Ryzen $7$ $4700$U ($8$ rdzeni, $8$ wątków),\n",
    "\n",
    "- Pamięć RAM: $16$ GB $3200$ MHz"
   ]
  },
  {
   "cell_type": "markdown",
   "id": "80b7771a",
   "metadata": {},
   "source": [
    "# Biblioteki"
   ]
  },
  {
   "cell_type": "code",
   "execution_count": 1,
   "id": "b9d8c2fd",
   "metadata": {},
   "outputs": [],
   "source": [
    "import numpy as np\n",
    "import pandas as pd\n",
    "from matplotlib import pyplot as plt\n",
    "import seaborn as sns\n",
    "import random\n",
    "import time\n",
    "from math import sqrt"
   ]
  },
  {
   "cell_type": "code",
   "execution_count": 2,
   "id": "969cd30d",
   "metadata": {},
   "outputs": [],
   "source": [
    "sns.set(rc={\"figure.dpi\": 200, 'savefig.dpi': 200})"
   ]
  },
  {
   "cell_type": "markdown",
   "id": "48777562",
   "metadata": {},
   "source": [
    "# Pomocnicze funkcje"
   ]
  },
  {
   "cell_type": "markdown",
   "id": "7e88df82",
   "metadata": {},
   "source": [
    "## Obliczenia"
   ]
  },
  {
   "cell_type": "markdown",
   "id": "f333fdc8",
   "metadata": {},
   "source": [
    "### Budowanie macierzy wypełnionej zgodnie ze wzorem"
   ]
  },
  {
   "cell_type": "markdown",
   "id": "5afe75b0",
   "metadata": {},
   "source": [
    "#### Macierz kwadratowa"
   ]
  },
  {
   "cell_type": "code",
   "execution_count": 3,
   "id": "436cde9f",
   "metadata": {},
   "outputs": [],
   "source": [
    "def create_matrix(fn, n, m, dtype=np.float64):\n",
    "    A = np.empty((n, m), dtype)\n",
    "    \n",
    "    for i in range(n):\n",
    "        for j in range(m):\n",
    "            A[i, j] = fn(i + 1, j + 1)\n",
    "            \n",
    "    return A"
   ]
  },
  {
   "cell_type": "markdown",
   "id": "abfe3b32",
   "metadata": {},
   "source": [
    "#### Macierz o 3 przekątnych (jako 3 kolumny)\n",
    "##### (Taki sposób przechowywania macierzy pozwala na zmniejszenie złożoności pamięciowej algorytmu Thomasa)"
   ]
  },
  {
   "cell_type": "code",
   "execution_count": 4,
   "id": "20153456",
   "metadata": {},
   "outputs": [],
   "source": [
    "def create_thomas_matrix(fn, n, _=None, dtype=np.float64):\n",
    "    A = np.empty((n, 3), dtype)\n",
    "    \n",
    "    for i in range(n):\n",
    "        for k in range(3):\n",
    "            j = i + k - 1\n",
    "            if j < 0 or j >= n:\n",
    "                A[i, k] = 0\n",
    "            else:\n",
    "                A[i, k] = fn(i + 1, j + 1)\n",
    "            \n",
    "    return A"
   ]
  },
  {
   "cell_type": "markdown",
   "id": "05e18d84",
   "metadata": {},
   "source": [
    "### Tworzenie wektorów"
   ]
  },
  {
   "cell_type": "markdown",
   "id": "9cbef0b6",
   "metadata": {},
   "source": [
    "#### Tworzenie wektora wypełnionego wartościami zgodnie z zadaną funkcją"
   ]
  },
  {
   "cell_type": "code",
   "execution_count": 5,
   "id": "330dd36f",
   "metadata": {},
   "outputs": [],
   "source": [
    "def create_vector(fn, n, dtype=np.float64):\n",
    "    return np.array([fn(i) for i in range(n)], dtype)"
   ]
  },
  {
   "cell_type": "markdown",
   "id": "63543f3a",
   "metadata": {},
   "source": [
    "### Pomiar czasu wykonywania kodu"
   ]
  },
  {
   "cell_type": "markdown",
   "id": "8b3ef8bc",
   "metadata": {},
   "source": [
    "#### Dekorator, pozwalający na pomiar czasu wykonania kodu"
   ]
  },
  {
   "cell_type": "code",
   "execution_count": 6,
   "id": "1bf45c1a",
   "metadata": {},
   "outputs": [],
   "source": [
    "def print_duration(sec):\n",
    "    t = int(sec)\n",
    "    ms = int((sec - t) * 1000)\n",
    "    s = t % 60\n",
    "    t //= 60\n",
    "    m = t % 60\n",
    "    t //= 60\n",
    "    print(f'Łączny czas wykonania: {t:>02}:{m:>02}:{s:>02}.{ms:<03}')\n",
    "\n",
    "def timed(*, save_fn=None, save_dict=None):\n",
    "    def decorator(fn):\n",
    "        def inner(*args, **kwargs):\n",
    "            start_time = time.perf_counter()\n",
    "            res = fn(*args, **kwargs)\n",
    "            duration = time.perf_counter() - start_time\n",
    "    \n",
    "            if save_dict is not None and save_fn: \n",
    "                save_dict[save_fn(*args, **kwargs)] = duration\n",
    "            return res\n",
    "        \n",
    "        return inner\n",
    "    return decorator"
   ]
  },
  {
   "cell_type": "markdown",
   "id": "5999e6de",
   "metadata": {},
   "source": [
    "# Wstęp"
   ]
  },
  {
   "cell_type": "markdown",
   "id": "c8b3de3e",
   "metadata": {},
   "source": [
    "Dany jest układ równań liniowych $Ax=b$. \n",
    "\n",
    "Elementy macierzy $A$ są zadane wzorem ($m,k$ - parametry zadania podane indywidualnie):\n",
    "\n",
    "$\n",
    "\\begin{cases} \n",
    "    a_{i, i} = k \\\\ \n",
    "    a_{i, j} = (-1)^j \\frac{m}{j} & dla & j > 1 \\\\\n",
    "    a_{i, i-1} = \\frac{m}{i} \\\\\n",
    "    a_{i, j} = 0 & dla & j < i - 1 \\\\\n",
    "\\end{cases}\n",
    "$\n",
    "\n",
    "gdzie $k=11, m=2$\n",
    "\n",
    "Przyjmij wektor $x$ jako dowolną n-elementową permutację ze zbioru $\\{1, -1\\}$ i oblicz wektor $b$. "
   ]
  },
  {
   "cell_type": "markdown",
   "id": "1b31646f",
   "metadata": {},
   "source": [
    "## Implementacja funkcji wyznaczającej elementy macierzy"
   ]
  },
  {
   "cell_type": "code",
   "execution_count": 7,
   "id": "565d4f8a",
   "metadata": {},
   "outputs": [],
   "source": [
    "k = 11\n",
    "m = 2\n",
    "\n",
    "def fn(i, j):\n",
    "    if i == j: return k\n",
    "    if j < i: return (-1)**j * m / j\n",
    "    if j == i - 1: return m / i\n",
    "    return 0"
   ]
  },
  {
   "cell_type": "markdown",
   "id": "72745f42",
   "metadata": {},
   "source": [
    "## Tworzenie macierzy $A$"
   ]
  },
  {
   "cell_type": "markdown",
   "id": "a8e47371",
   "metadata": {},
   "source": [
    "Poniższa funkcja ma jedynie na celu ułatwienie tworzenia macierzy $A$ (żeby za każdym razem nie trzeba było przekazywać wszystkich parametrów)."
   ]
  },
  {
   "cell_type": "code",
   "execution_count": 8,
   "id": "b18ec737",
   "metadata": {},
   "outputs": [],
   "source": [
    "create_A_matrix = lambda n, dtype=np.float64: create_matrix(fn, n, n, dtype)"
   ]
  },
  {
   "cell_type": "markdown",
   "id": "561e5d3f",
   "metadata": {},
   "source": [
    "###### Testy"
   ]
  },
  {
   "cell_type": "code",
   "execution_count": 9,
   "id": "dd3a1a1f",
   "metadata": {},
   "outputs": [
    {
     "data": {
      "text/plain": [
       "array([[11.        ,  0.        ,  0.        ,  0.        ,  0.        ],\n",
       "       [-2.        , 11.        ,  0.        ,  0.        ,  0.        ],\n",
       "       [-2.        ,  1.        , 11.        ,  0.        ,  0.        ],\n",
       "       [-2.        ,  1.        , -0.66666667, 11.        ,  0.        ],\n",
       "       [-2.        ,  1.        , -0.66666667,  0.5       , 11.        ]])"
      ]
     },
     "execution_count": 9,
     "metadata": {},
     "output_type": "execute_result"
    }
   ],
   "source": [
    "create_A_matrix(5)"
   ]
  },
  {
   "cell_type": "markdown",
   "id": "5be70834",
   "metadata": {},
   "source": [
    "## Wyznaczanie wektora $x$"
   ]
  },
  {
   "cell_type": "markdown",
   "id": "24f59b89",
   "metadata": {},
   "source": [
    "Ponieważ, jako wektor $x$, będący rozwiązaniem układu równań $Ax=b$, możemy przyjąć wektor o współrzędnych, będących dowolną $n$-elementową permutacją liczb ze zbioru $\\{-1, 1\\}$, przyjmuję, że wektor $x$ będzie postaci $[-1, 1, -1, 1, ...]$ (na przemian będą występowały liczby $-1$ oraz $1$, rozpoczynając się od $-1$)"
   ]
  },
  {
   "cell_type": "code",
   "execution_count": 10,
   "id": "7c7743d9",
   "metadata": {},
   "outputs": [],
   "source": [
    "create_x_vector = lambda n, dtype=np.float64: create_vector(lambda i: (-1)**(i + 1), n, dtype)"
   ]
  },
  {
   "cell_type": "markdown",
   "id": "59465231",
   "metadata": {},
   "source": [
    "###### Test"
   ]
  },
  {
   "cell_type": "code",
   "execution_count": 11,
   "id": "bd433ece",
   "metadata": {},
   "outputs": [
    {
     "data": {
      "text/plain": [
       "array([-1.,  1., -1.,  1., -1.])"
      ]
     },
     "execution_count": 11,
     "metadata": {},
     "output_type": "execute_result"
    }
   ],
   "source": [
    "create_x_vector(5)"
   ]
  },
  {
   "cell_type": "markdown",
   "id": "bfda1e0b",
   "metadata": {},
   "source": [
    "## Obliczanie wektora $b$"
   ]
  },
  {
   "cell_type": "markdown",
   "id": "9c8ea289",
   "metadata": {},
   "source": [
    "Ponieważ nie znamy wektora $b$, w celu jego obliczenia dla danego $n$, konieczne jest najpierw wyznaczenie wektora $x$, który ma być rozwiązaniem układu równań. Następnie, korzystając z tego wektora, należy obliczyć wektor $b$. W późniejszych obliczeniach będziemy ten wektor wykorzystywać wraz z macierzą $A$ do obliczenia wektora $x$, po czym, porównamy wartość obliczonego w ten sposób wektora $x$ z wartością wektora $x$ wcześniej przyjętego jako rozwiązanie układu."
   ]
  },
  {
   "cell_type": "code",
   "execution_count": 12,
   "id": "8a2462ba",
   "metadata": {},
   "outputs": [
    {
     "data": {
      "text/plain": [
       "array([-11.        ,  13.        ,  -8.        ,  14.66666667,\n",
       "        -6.83333333])"
      ]
     },
     "execution_count": 12,
     "metadata": {},
     "output_type": "execute_result"
    }
   ],
   "source": [
    "n = 5\n",
    "A = create_A_matrix(n)\n",
    "x_solution = create_x_vector(n, A.dtype)\n",
    "b = A @ x_solution\n",
    "b"
   ]
  },
  {
   "cell_type": "markdown",
   "id": "7d808c91",
   "metadata": {},
   "source": [
    "# Zadanie 1"
   ]
  },
  {
   "cell_type": "markdown",
   "id": "592b4304",
   "metadata": {},
   "source": [
    "## Opis zadania"
   ]
  },
  {
   "cell_type": "markdown",
   "id": "d6bcfdd1",
   "metadata": {},
   "source": [
    "Metodą Jacobiego rozwiąż układ równań liniowych $Ax=b$ (przyjmując jako niewiadomą wektor $x$), \n",
    "przyjmując kolejno kryterium stopu: \n",
    "\n",
    "- $||x^{(i+1)} - x^{(i)}|| < \\rho$\n",
    "\n",
    "- $||Ax^{(i)} - b|| < \\rho$\n",
    "\n",
    "Obliczenia wykonaj dla różnych rozmiarów układu $n$, dla różnych wektorów początkowych, a także \n",
    "różnych wartości $\\rho$ w kryteriach stopu. (*Podaj, jak liczono normę.*) Wyznacz liczbę iteracji oraz \n",
    "sprawdź różnicę w czasie obliczeń dla obu kryteriów stopu. \n",
    "Sprawdź dokładność obliczeń. "
   ]
  },
  {
   "cell_type": "markdown",
   "id": "0911d097",
   "metadata": {},
   "source": [
    "## Kryteria stopu"
   ]
  },
  {
   "cell_type": "markdown",
   "id": "72893c6e",
   "metadata": {},
   "source": [
    "### Sposób obliczania normy"
   ]
  },
  {
   "cell_type": "markdown",
   "id": "4fd3c079",
   "metadata": {},
   "source": [
    "Przy obliczaniu kryteriów stopu, wykorzystałem normę Euklidesową. Sposób wyznaczania tej normy w $n$-wymiarowej przestrzeni wektorowej przedstawia poniższy wzór:\n",
    "\n",
    "$||x|| = \\sqrt{\\sum_{i}^{n} x_i^2}$"
   ]
  },
  {
   "cell_type": "code",
   "execution_count": 13,
   "id": "67638a17",
   "metadata": {},
   "outputs": [],
   "source": [
    "euclidean_norm = lambda x: sqrt(sum(xi**2 for xi in x))"
   ]
  },
  {
   "cell_type": "markdown",
   "id": "5b26584d",
   "metadata": {},
   "source": [
    "### Kryteria"
   ]
  },
  {
   "cell_type": "markdown",
   "id": "f6421d59",
   "metadata": {},
   "source": [
    "#### Dekorator, ułatwiający korzystanie z kryteriów"
   ]
  },
  {
   "cell_type": "code",
   "execution_count": 14,
   "id": "9e7faaaf",
   "metadata": {},
   "outputs": [],
   "source": [
    "def apply_function_args(fn):\n",
    "    def inner(**kwargs):\n",
    "        arg_names = fn.__code__.co_varnames\n",
    "        return fn(**{k: kwargs[k] for k in arg_names})\n",
    "    return inner"
   ]
  },
  {
   "cell_type": "markdown",
   "id": "db9d05de",
   "metadata": {},
   "source": [
    "#### 1. Kryterium"
   ]
  },
  {
   "cell_type": "markdown",
   "id": "577d1d60",
   "metadata": {},
   "source": [
    "$||x^{(i+1)} - x^{(i)}|| < \\rho$"
   ]
  },
  {
   "cell_type": "code",
   "execution_count": 15,
   "id": "cfbc367a",
   "metadata": {},
   "outputs": [],
   "source": [
    "@apply_function_args\n",
    "def progressive_difference(x_curr, x_next, 𝜌):\n",
    "    return euclidean_norm(x_next - x_curr) < 𝜌"
   ]
  },
  {
   "cell_type": "markdown",
   "id": "301f7ba5",
   "metadata": {},
   "source": [
    "###### Test"
   ]
  },
  {
   "cell_type": "code",
   "execution_count": 16,
   "id": "ebd72ee8",
   "metadata": {},
   "outputs": [
    {
     "data": {
      "text/plain": [
       "True"
      ]
     },
     "execution_count": 16,
     "metadata": {},
     "output_type": "execute_result"
    }
   ],
   "source": [
    "progressive_difference(\n",
    "    foo=12412312,  # @apply_function_args decorator ensures that redundant parameters will be filtered out\n",
    "    x_curr=np.array([3, 3, 3]),\n",
    "    x_next=np.array([1, 1, 1]),\n",
    "    𝜌=5.1\n",
    ")"
   ]
  },
  {
   "cell_type": "markdown",
   "id": "fe5eaaee",
   "metadata": {},
   "source": [
    "#### 2. Kryterium"
   ]
  },
  {
   "cell_type": "markdown",
   "id": "9ba5883f",
   "metadata": {},
   "source": [
    "$||Ax^{(i)} - b|| < \\rho$"
   ]
  },
  {
   "cell_type": "code",
   "execution_count": 17,
   "id": "ffad7720",
   "metadata": {},
   "outputs": [],
   "source": [
    "@apply_function_args\n",
    "def solution_difference(x_curr, A, b, 𝜌):\n",
    "    return euclidean_norm(A @ x_curr - b) < 𝜌"
   ]
  },
  {
   "cell_type": "code",
   "execution_count": 18,
   "id": "24e1d82c",
   "metadata": {},
   "outputs": [
    {
     "data": {
      "text/plain": [
       "True"
      ]
     },
     "execution_count": 18,
     "metadata": {},
     "output_type": "execute_result"
    }
   ],
   "source": [
    "solution_difference(\n",
    "    x_curr=np.array([3, 3, 3]),\n",
    "    A = np.array([[1, 2, 3], [4, 5, 6], [7, 8, 9]]),\n",
    "    b = np.array([1, 1, 1]),\n",
    "    𝜌=123\n",
    ")"
   ]
  },
  {
   "cell_type": "markdown",
   "id": "9d92a627",
   "metadata": {},
   "source": [
    "## Wyznaczanie błędów obliczeń"
   ]
  },
  {
   "cell_type": "markdown",
   "id": "ef8e196b",
   "metadata": {},
   "source": [
    "### Norma maksimum"
   ]
  },
  {
   "cell_type": "markdown",
   "id": "3c90dde0",
   "metadata": {},
   "source": [
    "Do wyznaczania błędów skorzystałem z normy maksimum, przy pomocy której wyznaczałem maksymalną bezwzględną różnicę wartości współrzędnych wektorów (porównując zadany wektor $x$ z obliczonym)."
   ]
  },
  {
   "cell_type": "code",
   "execution_count": 19,
   "id": "9e6a5c2a",
   "metadata": {},
   "outputs": [],
   "source": [
    "max_err = lambda v1, v2: max(abs(v1 - v2))"
   ]
  },
  {
   "cell_type": "markdown",
   "id": "9985b71d",
   "metadata": {},
   "source": [
    "## Metoda Jacobiego"
   ]
  },
  {
   "cell_type": "markdown",
   "id": "51ef6240",
   "metadata": {},
   "source": [
    "Umieszczony poniżej słownik służy do zapisywania czasów wykonywanych obliczeń."
   ]
  },
  {
   "cell_type": "code",
   "execution_count": 20,
   "id": "cf2ca376",
   "metadata": {},
   "outputs": [],
   "source": [
    "times = {}"
   ]
  },
  {
   "cell_type": "code",
   "execution_count": 34,
   "id": "4733e4ba",
   "metadata": {},
   "outputs": [],
   "source": [
    "@timed(\n",
    "    save_fn=lambda A, *args, **kwargs: len(A),\n",
    "    save_dict=times\n",
    ")\n",
    "def jacobi(A, b, start_vector, *, stop_criterion=progressive_difference, 𝜌=1e-6, dtype=np.float64, max_iters=1000):\n",
    "    n = len(A)\n",
    "    x_curr = start_vector\n",
    "    x_next = np.empty(n, dtype)\n",
    "    iters = 0\n",
    "    \n",
    "    print()\n",
    "    while iters < max_iters:\n",
    "        iters += 1\n",
    "        for i in range(n):\n",
    "            x_next[i] = 1 / A[i, i] * (b[i] - sum(A[i, j] * x_curr[j] for j in range(n) if j != i))\n",
    "            \n",
    "        print(iters, max_err(x_curr, create_x_vector(n)))\n",
    "        if stop_criterion(A=A, b=b, x_curr=x_curr, x_next=x_next, 𝜌=𝜌): break\n",
    "        x_curr = x_next[:]\n",
    "    else:\n",
    "        iters = float('inf')\n",
    "        \n",
    "    return x_next, iters"
   ]
  },
  {
   "cell_type": "markdown",
   "id": "33f972c7",
   "metadata": {},
   "source": [
    "###### Testy"
   ]
  },
  {
   "cell_type": "markdown",
   "id": "bcf3ac82",
   "metadata": {},
   "source": [
    "Jak możemy zauważyć, wybór wektora początkowego ma znikome znaczenie"
   ]
  },
  {
   "cell_type": "code",
   "execution_count": 35,
   "id": "96841f94",
   "metadata": {},
   "outputs": [
    {
     "name": "stdout",
     "output_type": "stream",
     "text": [
      "\n",
      "1 8.858426178461574e+20\n",
      "2 0.0\n"
     ]
    },
    {
     "data": {
      "text/plain": [
       "(array([4.98713446e+20, 4.07235065e+19, 6.29058978e+20, 8.85842618e+20,\n",
       "        4.57114270e+20]),\n",
       " array([-1.,  1., -1.,  1., -1.]),\n",
       " 2)"
      ]
     },
     "execution_count": 35,
     "metadata": {},
     "output_type": "execute_result"
    }
   ],
   "source": [
    "n = 5\n",
    "A = create_matrix(fn, n, n)\n",
    "x_solution = create_x_vector(n)\n",
    "b = A @ x_solution\n",
    "\n",
    "start_x = np.array([random.random() * 10e20 for _ in range(n)])\n",
    "x, iters = jacobi(A, b, start_x)\n",
    "start_x, x, iters"
   ]
  },
  {
   "cell_type": "markdown",
   "id": "5b74981b",
   "metadata": {},
   "source": [
    "## Rozwiązanie"
   ]
  },
  {
   "cell_type": "code",
   "execution_count": 36,
   "id": "f9121711",
   "metadata": {},
   "outputs": [],
   "source": [
    "times.clear()"
   ]
  },
  {
   "cell_type": "markdown",
   "id": "729074d1",
   "metadata": {},
   "source": [
    "### Pomocnicza funkcja"
   ]
  },
  {
   "cell_type": "code",
   "execution_count": 37,
   "id": "3c014bef",
   "metadata": {},
   "outputs": [],
   "source": [
    "def calculate(n_list, start_vector_fns, 𝜌_list, stop_criterion, dtype=np.float64, max_iters=1000):\n",
    "    results = {}\n",
    "    \n",
    "    for n in n_list:\n",
    "        A = create_A_matrix(n, dtype)\n",
    "        x_solution = create_x_vector(n, dtype)\n",
    "        b = A @ x_solution\n",
    "        \n",
    "        calculated = [[None] * len(𝜌_list) for _ in range(len(start_vector_fns))]\n",
    "        start_vectors = [[None] * len(𝜌_list) for _ in range(len(start_vector_fns))]\n",
    "        errors = np.empty((len(start_vector_fns), len(𝜌_list)))\n",
    "        iters = np.empty((len(start_vector_fns), len(𝜌_list)))\n",
    "        times_ = np.empty((len(start_vector_fns), len(𝜌_list)))\n",
    "            \n",
    "        for i, (fn_name, start_vector_fn) in enumerate(start_vector_fns.items()):\n",
    "            x_start = create_vector(start_vector_fn, n, dtype)\n",
    "            \n",
    "            for j, 𝜌 in enumerate(𝜌_list):\n",
    "                x, it = jacobi(A, b, x_start, stop_criterion=stop_criterion, 𝜌=𝜌, dtype=dtype, max_iters=max_iters)\n",
    "                calculated[i][j] = x\n",
    "                start_vectors[i][j] = x_start\n",
    "                errors[i, j] = max_err(x, x_solution)\n",
    "                #print(list(x), list(x_solution), errors[i, j])\n",
    "                iters[i, j] = it\n",
    "                times_[i, j] = times[n]\n",
    "        \n",
    "        # Save results\n",
    "        results[n] = {}\n",
    "        for key, data in zip(\n",
    "            ('calculated', 'errors', 'iters', 'times', 'start_vectors'), \n",
    "            (calculated, errors, iters, times_, start_vectors)\n",
    "        ):\n",
    "            results[n][key] = pd.DataFrame(data, index=start_vector_fns.keys(), columns=𝜌_list)\n",
    "            \n",
    "    return results"
   ]
  },
  {
   "cell_type": "markdown",
   "id": "ec555ca0",
   "metadata": {},
   "source": [
    "###### Testy"
   ]
  },
  {
   "cell_type": "code",
   "execution_count": 38,
   "id": "d20ea2d5",
   "metadata": {},
   "outputs": [
    {
     "name": "stdout",
     "output_type": "stream",
     "text": [
      "\n",
      "1 80.0\n",
      "2 3.3306690738754696e-16\n",
      "\n",
      "1 80.0\n",
      "2 3.3306690738754696e-16\n",
      "\n",
      "1 80.0\n",
      "2 3.3306690738754696e-16\n",
      "\n",
      "1 1.8575244340417663\n",
      "2 3.3306690738754696e-16\n",
      "\n",
      "1 1.8575244340417663\n",
      "2 3.3306690738754696e-16\n",
      "\n",
      "1 1.8575244340417663\n",
      "2 3.3306690738754696e-16\n",
      "\n",
      "1 96227135821.0\n",
      "2 3.3306690738754696e-16\n",
      "\n",
      "1 96227135821.0\n",
      "2 3.3306690738754696e-16\n",
      "\n",
      "1 96227135821.0\n",
      "2 3.3306690738754696e-16\n",
      "\n",
      "1 577.0\n",
      "2 3.3306690738754696e-16\n",
      "\n",
      "1 577.0\n",
      "2 3.3306690738754696e-16\n",
      "\n",
      "1 577.0\n",
      "2 3.3306690738754696e-16\n",
      "\n",
      "1 1.8057810115716388\n",
      "2 3.3306690738754696e-16\n",
      "\n",
      "1 1.8057810115716388\n",
      "2 3.3306690738754696e-16\n",
      "\n",
      "1 1.8057810115716388\n",
      "2 3.3306690738754696e-16\n",
      "\n",
      "1 94819114311.0\n",
      "2 3.3306690738754696e-16\n",
      "\n",
      "1 94819114311.0\n",
      "2 3.3306690738754696e-16\n",
      "\n",
      "1 94819114311.0\n",
      "2 3.3306690738754696e-16\n",
      "\n",
      "1 9800.0\n",
      "2 4.440892098500626e-16\n",
      "\n",
      "1 9800.0\n",
      "2 4.440892098500626e-16\n",
      "\n",
      "1 9800.0\n",
      "2 4.440892098500626e-16\n",
      "\n",
      "1 1.999303850440168\n",
      "2 4.440892098500626e-16\n",
      "\n",
      "1 1.999303850440168\n",
      "2 4.440892098500626e-16\n",
      "\n",
      "1 1.999303850440168\n",
      "2 4.440892098500626e-16\n",
      "\n",
      "1 99575017225.0\n",
      "2 4.440892098500626e-16\n",
      "\n",
      "1 99575017225.0\n",
      "2 4.440892098500626e-16\n",
      "\n",
      "1 99575017225.0\n",
      "2 4.440892098500626e-16\n"
     ]
    }
   ],
   "source": [
    "n_list = [10, 25, 100]\n",
    "start_vector_fns = {\n",
    "    'sq': lambda i: i ** 2,\n",
    "    'random': lambda i: random.random(),\n",
    "    'randint': lambda i: random.randint(-10e10, 10e10)\n",
    "}\n",
    "𝜌_list = [\n",
    "    1e-5,\n",
    "    1e-10,\n",
    "    1e-15\n",
    "]\n",
    "stop_criterion = progressive_difference\n",
    "\n",
    "results = calculate(n_list, start_vector_fns, 𝜌_list, stop_criterion)"
   ]
  },
  {
   "cell_type": "markdown",
   "id": "8be9c4c6",
   "metadata": {},
   "source": [
    "Ponownie widzimy, że liczba iteracji jest niezależna od wektora początkowego"
   ]
  },
  {
   "cell_type": "code",
   "execution_count": 39,
   "id": "62097127",
   "metadata": {},
   "outputs": [
    {
     "data": {
      "text/html": [
       "<div>\n",
       "<style scoped>\n",
       "    .dataframe tbody tr th:only-of-type {\n",
       "        vertical-align: middle;\n",
       "    }\n",
       "\n",
       "    .dataframe tbody tr th {\n",
       "        vertical-align: top;\n",
       "    }\n",
       "\n",
       "    .dataframe thead th {\n",
       "        text-align: right;\n",
       "    }\n",
       "</style>\n",
       "<table border=\"1\" class=\"dataframe\">\n",
       "  <thead>\n",
       "    <tr style=\"text-align: right;\">\n",
       "      <th></th>\n",
       "      <th>1.000000e-05</th>\n",
       "      <th>1.000000e-10</th>\n",
       "      <th>1.000000e-15</th>\n",
       "    </tr>\n",
       "  </thead>\n",
       "  <tbody>\n",
       "    <tr>\n",
       "      <th>sq</th>\n",
       "      <td>[0.0, 1.0, 4.0, 9.0, 16.0, 25.0, 36.0, 49.0, 6...</td>\n",
       "      <td>[0.0, 1.0, 4.0, 9.0, 16.0, 25.0, 36.0, 49.0, 6...</td>\n",
       "      <td>[0.0, 1.0, 4.0, 9.0, 16.0, 25.0, 36.0, 49.0, 6...</td>\n",
       "    </tr>\n",
       "    <tr>\n",
       "      <th>random</th>\n",
       "      <td>[0.28426519455673327, 0.7721000189647086, 0.23...</td>\n",
       "      <td>[0.28426519455673327, 0.7721000189647086, 0.23...</td>\n",
       "      <td>[0.28426519455673327, 0.7721000189647086, 0.23...</td>\n",
       "    </tr>\n",
       "    <tr>\n",
       "      <th>randint</th>\n",
       "      <td>[73707888629.0, -59086766517.0, 49335938451.0,...</td>\n",
       "      <td>[73707888629.0, -59086766517.0, 49335938451.0,...</td>\n",
       "      <td>[73707888629.0, -59086766517.0, 49335938451.0,...</td>\n",
       "    </tr>\n",
       "  </tbody>\n",
       "</table>\n",
       "</div>"
      ],
      "text/plain": [
       "                                              1.000000e-05  \\\n",
       "sq       [0.0, 1.0, 4.0, 9.0, 16.0, 25.0, 36.0, 49.0, 6...   \n",
       "random   [0.28426519455673327, 0.7721000189647086, 0.23...   \n",
       "randint  [73707888629.0, -59086766517.0, 49335938451.0,...   \n",
       "\n",
       "                                              1.000000e-10  \\\n",
       "sq       [0.0, 1.0, 4.0, 9.0, 16.0, 25.0, 36.0, 49.0, 6...   \n",
       "random   [0.28426519455673327, 0.7721000189647086, 0.23...   \n",
       "randint  [73707888629.0, -59086766517.0, 49335938451.0,...   \n",
       "\n",
       "                                              1.000000e-15  \n",
       "sq       [0.0, 1.0, 4.0, 9.0, 16.0, 25.0, 36.0, 49.0, 6...  \n",
       "random   [0.28426519455673327, 0.7721000189647086, 0.23...  \n",
       "randint  [73707888629.0, -59086766517.0, 49335938451.0,...  "
      ]
     },
     "execution_count": 39,
     "metadata": {},
     "output_type": "execute_result"
    }
   ],
   "source": [
    "results[100]['start_vectors']"
   ]
  },
  {
   "cell_type": "code",
   "execution_count": 40,
   "id": "ab71b054",
   "metadata": {},
   "outputs": [
    {
     "data": {
      "text/html": [
       "<div>\n",
       "<style scoped>\n",
       "    .dataframe tbody tr th:only-of-type {\n",
       "        vertical-align: middle;\n",
       "    }\n",
       "\n",
       "    .dataframe tbody tr th {\n",
       "        vertical-align: top;\n",
       "    }\n",
       "\n",
       "    .dataframe thead th {\n",
       "        text-align: right;\n",
       "    }\n",
       "</style>\n",
       "<table border=\"1\" class=\"dataframe\">\n",
       "  <thead>\n",
       "    <tr style=\"text-align: right;\">\n",
       "      <th></th>\n",
       "      <th>1.000000e-05</th>\n",
       "      <th>1.000000e-10</th>\n",
       "      <th>1.000000e-15</th>\n",
       "    </tr>\n",
       "  </thead>\n",
       "  <tbody>\n",
       "    <tr>\n",
       "      <th>sq</th>\n",
       "      <td>2.0</td>\n",
       "      <td>2.0</td>\n",
       "      <td>2.0</td>\n",
       "    </tr>\n",
       "    <tr>\n",
       "      <th>random</th>\n",
       "      <td>2.0</td>\n",
       "      <td>2.0</td>\n",
       "      <td>2.0</td>\n",
       "    </tr>\n",
       "    <tr>\n",
       "      <th>randint</th>\n",
       "      <td>2.0</td>\n",
       "      <td>2.0</td>\n",
       "      <td>2.0</td>\n",
       "    </tr>\n",
       "  </tbody>\n",
       "</table>\n",
       "</div>"
      ],
      "text/plain": [
       "         1.000000e-05  1.000000e-10  1.000000e-15\n",
       "sq                2.0           2.0           2.0\n",
       "random            2.0           2.0           2.0\n",
       "randint           2.0           2.0           2.0"
      ]
     },
     "execution_count": 40,
     "metadata": {},
     "output_type": "execute_result"
    }
   ],
   "source": [
    "results[100]['iters']"
   ]
  },
  {
   "cell_type": "markdown",
   "id": "8da9ff23",
   "metadata": {},
   "source": [
    "### Dla ustalonego $n$ oraz różnych $\\rho$ i różnych wektorów początkowych"
   ]
  },
  {
   "cell_type": "markdown",
   "id": "8bc6e856",
   "metadata": {},
   "source": [
    "Jak widzimy, nawet dla bardzo dużej precyzji obliczeń i dużej wartości $n$, musimy wykonać tylko $2$ iteracje, w celu obliczenia wektora $x$."
   ]
  },
  {
   "cell_type": "markdown",
   "id": "3768132b",
   "metadata": {},
   "source": [
    "#### Dla 1. kryterium stopu"
   ]
  },
  {
   "cell_type": "code",
   "execution_count": 41,
   "id": "22be99c2",
   "metadata": {},
   "outputs": [
    {
     "name": "stdout",
     "output_type": "stream",
     "text": [
      "\n",
      "1 998000.0\n",
      "2 1.4432899320127035e-15\n",
      "\n",
      "1 998000.0\n",
      "2 1.4432899320127035e-15\n",
      "\n",
      "1 998000.0\n",
      "2 1.4432899320127035e-15\n",
      "\n",
      "1 1.9985779151791996\n",
      "2 1.4432899320127035e-15\n",
      "\n",
      "1 1.9985779151791996\n",
      "2 1.4432899320127035e-15\n",
      "\n",
      "1 1.9985779151791996\n",
      "2 1.4432899320127035e-15\n",
      "\n",
      "1 99989593223.0\n",
      "2 1.4432899320127035e-15\n",
      "\n",
      "1 99989593223.0\n",
      "2 1.4432899320127035e-15\n",
      "\n",
      "1 99989593223.0\n",
      "2 1.4432899320127035e-15\n"
     ]
    }
   ],
   "source": [
    "n_list = [1_000]\n",
    "start_vector_fns = {\n",
    "    'sq': lambda i: i ** 2,\n",
    "    'random': lambda i: random.random(),\n",
    "    'randint': lambda i: random.randint(-10e10, 10e10)\n",
    "}\n",
    "𝜌_list = [\n",
    "    1e-5,\n",
    "    1e-10,\n",
    "    1e-15\n",
    "]\n",
    "stop_criterion = progressive_difference\n",
    "\n",
    "results = calculate(n_list, start_vector_fns, 𝜌_list, stop_criterion)"
   ]
  },
  {
   "cell_type": "code",
   "execution_count": 42,
   "id": "0c816440",
   "metadata": {},
   "outputs": [
    {
     "data": {
      "text/html": [
       "<div>\n",
       "<style scoped>\n",
       "    .dataframe tbody tr th:only-of-type {\n",
       "        vertical-align: middle;\n",
       "    }\n",
       "\n",
       "    .dataframe tbody tr th {\n",
       "        vertical-align: top;\n",
       "    }\n",
       "\n",
       "    .dataframe thead th {\n",
       "        text-align: right;\n",
       "    }\n",
       "</style>\n",
       "<table border=\"1\" class=\"dataframe\">\n",
       "  <thead>\n",
       "    <tr style=\"text-align: right;\">\n",
       "      <th></th>\n",
       "      <th>1.000000e-05</th>\n",
       "      <th>1.000000e-10</th>\n",
       "      <th>1.000000e-15</th>\n",
       "    </tr>\n",
       "  </thead>\n",
       "  <tbody>\n",
       "    <tr>\n",
       "      <th>sq</th>\n",
       "      <td>2.0</td>\n",
       "      <td>2.0</td>\n",
       "      <td>2.0</td>\n",
       "    </tr>\n",
       "    <tr>\n",
       "      <th>random</th>\n",
       "      <td>2.0</td>\n",
       "      <td>2.0</td>\n",
       "      <td>2.0</td>\n",
       "    </tr>\n",
       "    <tr>\n",
       "      <th>randint</th>\n",
       "      <td>2.0</td>\n",
       "      <td>2.0</td>\n",
       "      <td>2.0</td>\n",
       "    </tr>\n",
       "  </tbody>\n",
       "</table>\n",
       "</div>"
      ],
      "text/plain": [
       "         1.000000e-05  1.000000e-10  1.000000e-15\n",
       "sq                2.0           2.0           2.0\n",
       "random            2.0           2.0           2.0\n",
       "randint           2.0           2.0           2.0"
      ]
     },
     "execution_count": 42,
     "metadata": {},
     "output_type": "execute_result"
    }
   ],
   "source": [
    "results[1_000]['iters']"
   ]
  },
  {
   "cell_type": "code",
   "execution_count": 45,
   "id": "7208563c",
   "metadata": {},
   "outputs": [
    {
     "data": {
      "text/html": [
       "<div>\n",
       "<style scoped>\n",
       "    .dataframe tbody tr th:only-of-type {\n",
       "        vertical-align: middle;\n",
       "    }\n",
       "\n",
       "    .dataframe tbody tr th {\n",
       "        vertical-align: top;\n",
       "    }\n",
       "\n",
       "    .dataframe thead th {\n",
       "        text-align: right;\n",
       "    }\n",
       "</style>\n",
       "<table border=\"1\" class=\"dataframe\">\n",
       "  <thead>\n",
       "    <tr style=\"text-align: right;\">\n",
       "      <th></th>\n",
       "      <th>1.000000e-05</th>\n",
       "      <th>1.000000e-10</th>\n",
       "      <th>1.000000e-15</th>\n",
       "    </tr>\n",
       "  </thead>\n",
       "  <tbody>\n",
       "    <tr>\n",
       "      <th>sq</th>\n",
       "      <td>[0.0, 1.0, 4.0, 9.0, 16.0, 25.0, 36.0, 49.0, 6...</td>\n",
       "      <td>[0.0, 1.0, 4.0, 9.0, 16.0, 25.0, 36.0, 49.0, 6...</td>\n",
       "      <td>[0.0, 1.0, 4.0, 9.0, 16.0, 25.0, 36.0, 49.0, 6...</td>\n",
       "    </tr>\n",
       "    <tr>\n",
       "      <th>random</th>\n",
       "      <td>[0.6841054086348236, 0.6383651657816994, 0.548...</td>\n",
       "      <td>[0.6841054086348236, 0.6383651657816994, 0.548...</td>\n",
       "      <td>[0.6841054086348236, 0.6383651657816994, 0.548...</td>\n",
       "    </tr>\n",
       "    <tr>\n",
       "      <th>randint</th>\n",
       "      <td>[25917682819.0, 65233590039.0, -45852413076.0,...</td>\n",
       "      <td>[25917682819.0, 65233590039.0, -45852413076.0,...</td>\n",
       "      <td>[25917682819.0, 65233590039.0, -45852413076.0,...</td>\n",
       "    </tr>\n",
       "  </tbody>\n",
       "</table>\n",
       "</div>"
      ],
      "text/plain": [
       "                                              1.000000e-05  \\\n",
       "sq       [0.0, 1.0, 4.0, 9.0, 16.0, 25.0, 36.0, 49.0, 6...   \n",
       "random   [0.6841054086348236, 0.6383651657816994, 0.548...   \n",
       "randint  [25917682819.0, 65233590039.0, -45852413076.0,...   \n",
       "\n",
       "                                              1.000000e-10  \\\n",
       "sq       [0.0, 1.0, 4.0, 9.0, 16.0, 25.0, 36.0, 49.0, 6...   \n",
       "random   [0.6841054086348236, 0.6383651657816994, 0.548...   \n",
       "randint  [25917682819.0, 65233590039.0, -45852413076.0,...   \n",
       "\n",
       "                                              1.000000e-15  \n",
       "sq       [0.0, 1.0, 4.0, 9.0, 16.0, 25.0, 36.0, 49.0, 6...  \n",
       "random   [0.6841054086348236, 0.6383651657816994, 0.548...  \n",
       "randint  [25917682819.0, 65233590039.0, -45852413076.0,...  "
      ]
     },
     "execution_count": 45,
     "metadata": {},
     "output_type": "execute_result"
    }
   ],
   "source": [
    "results[1_000]['start_vectors']"
   ]
  },
  {
   "cell_type": "code",
   "execution_count": 46,
   "id": "3737bfef",
   "metadata": {},
   "outputs": [
    {
     "data": {
      "text/html": [
       "<div>\n",
       "<style scoped>\n",
       "    .dataframe tbody tr th:only-of-type {\n",
       "        vertical-align: middle;\n",
       "    }\n",
       "\n",
       "    .dataframe tbody tr th {\n",
       "        vertical-align: top;\n",
       "    }\n",
       "\n",
       "    .dataframe thead th {\n",
       "        text-align: right;\n",
       "    }\n",
       "</style>\n",
       "<table border=\"1\" class=\"dataframe\">\n",
       "  <thead>\n",
       "    <tr style=\"text-align: right;\">\n",
       "      <th></th>\n",
       "      <th>1.000000e-05</th>\n",
       "      <th>1.000000e-10</th>\n",
       "      <th>1.000000e-15</th>\n",
       "    </tr>\n",
       "  </thead>\n",
       "  <tbody>\n",
       "    <tr>\n",
       "      <th>sq</th>\n",
       "      <td>1.443290e-15</td>\n",
       "      <td>1.443290e-15</td>\n",
       "      <td>1.443290e-15</td>\n",
       "    </tr>\n",
       "    <tr>\n",
       "      <th>random</th>\n",
       "      <td>1.443290e-15</td>\n",
       "      <td>1.443290e-15</td>\n",
       "      <td>1.443290e-15</td>\n",
       "    </tr>\n",
       "    <tr>\n",
       "      <th>randint</th>\n",
       "      <td>1.443290e-15</td>\n",
       "      <td>1.443290e-15</td>\n",
       "      <td>1.443290e-15</td>\n",
       "    </tr>\n",
       "  </tbody>\n",
       "</table>\n",
       "</div>"
      ],
      "text/plain": [
       "         1.000000e-05  1.000000e-10  1.000000e-15\n",
       "sq       1.443290e-15  1.443290e-15  1.443290e-15\n",
       "random   1.443290e-15  1.443290e-15  1.443290e-15\n",
       "randint  1.443290e-15  1.443290e-15  1.443290e-15"
      ]
     },
     "execution_count": 46,
     "metadata": {},
     "output_type": "execute_result"
    }
   ],
   "source": [
    "results[1_000]['errors']"
   ]
  },
  {
   "cell_type": "markdown",
   "id": "a8978519",
   "metadata": {},
   "source": [
    "#### Dla 2. kryterium stopu"
   ]
  },
  {
   "cell_type": "code",
   "execution_count": 47,
   "id": "0208a30d",
   "metadata": {},
   "outputs": [
    {
     "name": "stdout",
     "output_type": "stream",
     "text": [
      "\n",
      "1 998000.0\n",
      "2 1.4432899320127035e-15\n",
      "\n",
      "1 998000.0\n",
      "2 1.4432899320127035e-15\n",
      "\n",
      "1 998000.0\n",
      "2 1.4432899320127035e-15\n",
      "3 1.4432899320127035e-15\n",
      "4 1.4432899320127035e-15\n",
      "5 1.4432899320127035e-15\n",
      "6 1.4432899320127035e-15\n",
      "7 1.4432899320127035e-15\n",
      "8 1.4432899320127035e-15\n",
      "9 1.4432899320127035e-15\n",
      "10 1.4432899320127035e-15\n",
      "11 1.4432899320127035e-15\n",
      "12 1.4432899320127035e-15\n",
      "13 1.4432899320127035e-15\n",
      "14 1.4432899320127035e-15\n",
      "15 1.4432899320127035e-15\n",
      "16 1.4432899320127035e-15\n",
      "17 1.4432899320127035e-15\n",
      "18 1.4432899320127035e-15\n",
      "19 1.4432899320127035e-15\n",
      "20 1.4432899320127035e-15\n",
      "21 1.4432899320127035e-15\n",
      "22 1.4432899320127035e-15\n",
      "23 1.4432899320127035e-15\n",
      "24 1.4432899320127035e-15\n",
      "25 1.4432899320127035e-15\n",
      "26 1.4432899320127035e-15\n",
      "27 1.4432899320127035e-15\n",
      "28 1.4432899320127035e-15\n",
      "29 1.4432899320127035e-15\n",
      "30 1.4432899320127035e-15\n",
      "31 1.4432899320127035e-15\n",
      "32 1.4432899320127035e-15\n",
      "33 1.4432899320127035e-15\n",
      "34 1.4432899320127035e-15\n",
      "35 1.4432899320127035e-15\n",
      "36 1.4432899320127035e-15\n",
      "37 1.4432899320127035e-15\n",
      "38 1.4432899320127035e-15\n",
      "39 1.4432899320127035e-15\n",
      "40 1.4432899320127035e-15\n",
      "41 1.4432899320127035e-15\n",
      "42 1.4432899320127035e-15\n",
      "43 1.4432899320127035e-15\n",
      "44 1.4432899320127035e-15\n",
      "45 1.4432899320127035e-15\n",
      "46 1.4432899320127035e-15\n",
      "47 1.4432899320127035e-15\n",
      "48 1.4432899320127035e-15\n",
      "49 1.4432899320127035e-15\n",
      "50 1.4432899320127035e-15\n",
      "51 1.4432899320127035e-15\n",
      "52 1.4432899320127035e-15\n",
      "53 1.4432899320127035e-15\n",
      "54 1.4432899320127035e-15\n",
      "55 1.4432899320127035e-15\n",
      "56 1.4432899320127035e-15\n"
     ]
    },
    {
     "ename": "KeyboardInterrupt",
     "evalue": "",
     "output_type": "error",
     "traceback": [
      "\u001b[1;31m---------------------------------------------------------------------------\u001b[0m",
      "\u001b[1;31mKeyboardInterrupt\u001b[0m                         Traceback (most recent call last)",
      "\u001b[1;32m~\\AppData\\Local\\Temp/ipykernel_10316/30864131.py\u001b[0m in \u001b[0;36m<module>\u001b[1;34m\u001b[0m\n\u001b[0;32m     12\u001b[0m \u001b[0mstop_criterion\u001b[0m \u001b[1;33m=\u001b[0m \u001b[0msolution_difference\u001b[0m\u001b[1;33m\u001b[0m\u001b[1;33m\u001b[0m\u001b[0m\n\u001b[0;32m     13\u001b[0m \u001b[1;33m\u001b[0m\u001b[0m\n\u001b[1;32m---> 14\u001b[1;33m \u001b[0mresults\u001b[0m \u001b[1;33m=\u001b[0m \u001b[0mcalculate\u001b[0m\u001b[1;33m(\u001b[0m\u001b[0mn_list\u001b[0m\u001b[1;33m,\u001b[0m \u001b[0mstart_vector_fns\u001b[0m\u001b[1;33m,\u001b[0m \u001b[0m𝜌_list\u001b[0m\u001b[1;33m,\u001b[0m \u001b[0mstop_criterion\u001b[0m\u001b[1;33m)\u001b[0m\u001b[1;33m\u001b[0m\u001b[1;33m\u001b[0m\u001b[0m\n\u001b[0m",
      "\u001b[1;32m~\\AppData\\Local\\Temp/ipykernel_10316/265746974.py\u001b[0m in \u001b[0;36mcalculate\u001b[1;34m(n_list, start_vector_fns, ρ_list, stop_criterion, dtype, max_iters)\u001b[0m\n\u001b[0;32m     17\u001b[0m \u001b[1;33m\u001b[0m\u001b[0m\n\u001b[0;32m     18\u001b[0m             \u001b[1;32mfor\u001b[0m \u001b[0mj\u001b[0m\u001b[1;33m,\u001b[0m \u001b[0m𝜌\u001b[0m \u001b[1;32min\u001b[0m \u001b[0menumerate\u001b[0m\u001b[1;33m(\u001b[0m\u001b[0m𝜌_list\u001b[0m\u001b[1;33m)\u001b[0m\u001b[1;33m:\u001b[0m\u001b[1;33m\u001b[0m\u001b[1;33m\u001b[0m\u001b[0m\n\u001b[1;32m---> 19\u001b[1;33m                 \u001b[0mx\u001b[0m\u001b[1;33m,\u001b[0m \u001b[0mit\u001b[0m \u001b[1;33m=\u001b[0m \u001b[0mjacobi\u001b[0m\u001b[1;33m(\u001b[0m\u001b[0mA\u001b[0m\u001b[1;33m,\u001b[0m \u001b[0mb\u001b[0m\u001b[1;33m,\u001b[0m \u001b[0mx_start\u001b[0m\u001b[1;33m,\u001b[0m \u001b[0mstop_criterion\u001b[0m\u001b[1;33m=\u001b[0m\u001b[0mstop_criterion\u001b[0m\u001b[1;33m,\u001b[0m \u001b[0m𝜌\u001b[0m\u001b[1;33m=\u001b[0m\u001b[0m𝜌\u001b[0m\u001b[1;33m,\u001b[0m \u001b[0mdtype\u001b[0m\u001b[1;33m=\u001b[0m\u001b[0mdtype\u001b[0m\u001b[1;33m,\u001b[0m \u001b[0mmax_iters\u001b[0m\u001b[1;33m=\u001b[0m\u001b[0mmax_iters\u001b[0m\u001b[1;33m)\u001b[0m\u001b[1;33m\u001b[0m\u001b[1;33m\u001b[0m\u001b[0m\n\u001b[0m\u001b[0;32m     20\u001b[0m                 \u001b[0mcalculated\u001b[0m\u001b[1;33m[\u001b[0m\u001b[0mi\u001b[0m\u001b[1;33m]\u001b[0m\u001b[1;33m[\u001b[0m\u001b[0mj\u001b[0m\u001b[1;33m]\u001b[0m \u001b[1;33m=\u001b[0m \u001b[0mx\u001b[0m\u001b[1;33m\u001b[0m\u001b[1;33m\u001b[0m\u001b[0m\n\u001b[0;32m     21\u001b[0m                 \u001b[0mstart_vectors\u001b[0m\u001b[1;33m[\u001b[0m\u001b[0mi\u001b[0m\u001b[1;33m]\u001b[0m\u001b[1;33m[\u001b[0m\u001b[0mj\u001b[0m\u001b[1;33m]\u001b[0m \u001b[1;33m=\u001b[0m \u001b[0mx_start\u001b[0m\u001b[1;33m\u001b[0m\u001b[1;33m\u001b[0m\u001b[0m\n",
      "\u001b[1;32m~\\AppData\\Local\\Temp/ipykernel_10316/3457814213.py\u001b[0m in \u001b[0;36minner\u001b[1;34m(*args, **kwargs)\u001b[0m\n\u001b[0;32m     12\u001b[0m         \u001b[1;32mdef\u001b[0m \u001b[0minner\u001b[0m\u001b[1;33m(\u001b[0m\u001b[1;33m*\u001b[0m\u001b[0margs\u001b[0m\u001b[1;33m,\u001b[0m \u001b[1;33m**\u001b[0m\u001b[0mkwargs\u001b[0m\u001b[1;33m)\u001b[0m\u001b[1;33m:\u001b[0m\u001b[1;33m\u001b[0m\u001b[1;33m\u001b[0m\u001b[0m\n\u001b[0;32m     13\u001b[0m             \u001b[0mstart_time\u001b[0m \u001b[1;33m=\u001b[0m \u001b[0mtime\u001b[0m\u001b[1;33m.\u001b[0m\u001b[0mperf_counter\u001b[0m\u001b[1;33m(\u001b[0m\u001b[1;33m)\u001b[0m\u001b[1;33m\u001b[0m\u001b[1;33m\u001b[0m\u001b[0m\n\u001b[1;32m---> 14\u001b[1;33m             \u001b[0mres\u001b[0m \u001b[1;33m=\u001b[0m \u001b[0mfn\u001b[0m\u001b[1;33m(\u001b[0m\u001b[1;33m*\u001b[0m\u001b[0margs\u001b[0m\u001b[1;33m,\u001b[0m \u001b[1;33m**\u001b[0m\u001b[0mkwargs\u001b[0m\u001b[1;33m)\u001b[0m\u001b[1;33m\u001b[0m\u001b[1;33m\u001b[0m\u001b[0m\n\u001b[0m\u001b[0;32m     15\u001b[0m             \u001b[0mduration\u001b[0m \u001b[1;33m=\u001b[0m \u001b[0mtime\u001b[0m\u001b[1;33m.\u001b[0m\u001b[0mperf_counter\u001b[0m\u001b[1;33m(\u001b[0m\u001b[1;33m)\u001b[0m \u001b[1;33m-\u001b[0m \u001b[0mstart_time\u001b[0m\u001b[1;33m\u001b[0m\u001b[1;33m\u001b[0m\u001b[0m\n\u001b[0;32m     16\u001b[0m \u001b[1;33m\u001b[0m\u001b[0m\n",
      "\u001b[1;32m~\\AppData\\Local\\Temp/ipykernel_10316/1306048890.py\u001b[0m in \u001b[0;36mjacobi\u001b[1;34m(A, b, start_vector, stop_criterion, ρ, dtype, max_iters)\u001b[0m\n\u001b[0;32m     13\u001b[0m         \u001b[0miters\u001b[0m \u001b[1;33m+=\u001b[0m \u001b[1;36m1\u001b[0m\u001b[1;33m\u001b[0m\u001b[1;33m\u001b[0m\u001b[0m\n\u001b[0;32m     14\u001b[0m         \u001b[1;32mfor\u001b[0m \u001b[0mi\u001b[0m \u001b[1;32min\u001b[0m \u001b[0mrange\u001b[0m\u001b[1;33m(\u001b[0m\u001b[0mn\u001b[0m\u001b[1;33m)\u001b[0m\u001b[1;33m:\u001b[0m\u001b[1;33m\u001b[0m\u001b[1;33m\u001b[0m\u001b[0m\n\u001b[1;32m---> 15\u001b[1;33m             \u001b[0mx_next\u001b[0m\u001b[1;33m[\u001b[0m\u001b[0mi\u001b[0m\u001b[1;33m]\u001b[0m \u001b[1;33m=\u001b[0m \u001b[1;36m1\u001b[0m \u001b[1;33m/\u001b[0m \u001b[0mA\u001b[0m\u001b[1;33m[\u001b[0m\u001b[0mi\u001b[0m\u001b[1;33m,\u001b[0m \u001b[0mi\u001b[0m\u001b[1;33m]\u001b[0m \u001b[1;33m*\u001b[0m \u001b[1;33m(\u001b[0m\u001b[0mb\u001b[0m\u001b[1;33m[\u001b[0m\u001b[0mi\u001b[0m\u001b[1;33m]\u001b[0m \u001b[1;33m-\u001b[0m \u001b[0msum\u001b[0m\u001b[1;33m(\u001b[0m\u001b[0mA\u001b[0m\u001b[1;33m[\u001b[0m\u001b[0mi\u001b[0m\u001b[1;33m,\u001b[0m \u001b[0mj\u001b[0m\u001b[1;33m]\u001b[0m \u001b[1;33m*\u001b[0m \u001b[0mx_curr\u001b[0m\u001b[1;33m[\u001b[0m\u001b[0mj\u001b[0m\u001b[1;33m]\u001b[0m \u001b[1;32mfor\u001b[0m \u001b[0mj\u001b[0m \u001b[1;32min\u001b[0m \u001b[0mrange\u001b[0m\u001b[1;33m(\u001b[0m\u001b[0mn\u001b[0m\u001b[1;33m)\u001b[0m \u001b[1;32mif\u001b[0m \u001b[0mj\u001b[0m \u001b[1;33m!=\u001b[0m \u001b[0mi\u001b[0m\u001b[1;33m)\u001b[0m\u001b[1;33m)\u001b[0m\u001b[1;33m\u001b[0m\u001b[1;33m\u001b[0m\u001b[0m\n\u001b[0m\u001b[0;32m     16\u001b[0m \u001b[1;33m\u001b[0m\u001b[0m\n\u001b[0;32m     17\u001b[0m         \u001b[0mprint\u001b[0m\u001b[1;33m(\u001b[0m\u001b[0miters\u001b[0m\u001b[1;33m,\u001b[0m \u001b[0mmax_err\u001b[0m\u001b[1;33m(\u001b[0m\u001b[0mx_curr\u001b[0m\u001b[1;33m,\u001b[0m \u001b[0mcreate_x_vector\u001b[0m\u001b[1;33m(\u001b[0m\u001b[0mn\u001b[0m\u001b[1;33m)\u001b[0m\u001b[1;33m)\u001b[0m\u001b[1;33m)\u001b[0m\u001b[1;33m\u001b[0m\u001b[1;33m\u001b[0m\u001b[0m\n",
      "\u001b[1;32m~\\AppData\\Local\\Temp/ipykernel_10316/1306048890.py\u001b[0m in \u001b[0;36m<genexpr>\u001b[1;34m(.0)\u001b[0m\n\u001b[0;32m     13\u001b[0m         \u001b[0miters\u001b[0m \u001b[1;33m+=\u001b[0m \u001b[1;36m1\u001b[0m\u001b[1;33m\u001b[0m\u001b[1;33m\u001b[0m\u001b[0m\n\u001b[0;32m     14\u001b[0m         \u001b[1;32mfor\u001b[0m \u001b[0mi\u001b[0m \u001b[1;32min\u001b[0m \u001b[0mrange\u001b[0m\u001b[1;33m(\u001b[0m\u001b[0mn\u001b[0m\u001b[1;33m)\u001b[0m\u001b[1;33m:\u001b[0m\u001b[1;33m\u001b[0m\u001b[1;33m\u001b[0m\u001b[0m\n\u001b[1;32m---> 15\u001b[1;33m             \u001b[0mx_next\u001b[0m\u001b[1;33m[\u001b[0m\u001b[0mi\u001b[0m\u001b[1;33m]\u001b[0m \u001b[1;33m=\u001b[0m \u001b[1;36m1\u001b[0m \u001b[1;33m/\u001b[0m \u001b[0mA\u001b[0m\u001b[1;33m[\u001b[0m\u001b[0mi\u001b[0m\u001b[1;33m,\u001b[0m \u001b[0mi\u001b[0m\u001b[1;33m]\u001b[0m \u001b[1;33m*\u001b[0m \u001b[1;33m(\u001b[0m\u001b[0mb\u001b[0m\u001b[1;33m[\u001b[0m\u001b[0mi\u001b[0m\u001b[1;33m]\u001b[0m \u001b[1;33m-\u001b[0m \u001b[0msum\u001b[0m\u001b[1;33m(\u001b[0m\u001b[0mA\u001b[0m\u001b[1;33m[\u001b[0m\u001b[0mi\u001b[0m\u001b[1;33m,\u001b[0m \u001b[0mj\u001b[0m\u001b[1;33m]\u001b[0m \u001b[1;33m*\u001b[0m \u001b[0mx_curr\u001b[0m\u001b[1;33m[\u001b[0m\u001b[0mj\u001b[0m\u001b[1;33m]\u001b[0m \u001b[1;32mfor\u001b[0m \u001b[0mj\u001b[0m \u001b[1;32min\u001b[0m \u001b[0mrange\u001b[0m\u001b[1;33m(\u001b[0m\u001b[0mn\u001b[0m\u001b[1;33m)\u001b[0m \u001b[1;32mif\u001b[0m \u001b[0mj\u001b[0m \u001b[1;33m!=\u001b[0m \u001b[0mi\u001b[0m\u001b[1;33m)\u001b[0m\u001b[1;33m)\u001b[0m\u001b[1;33m\u001b[0m\u001b[1;33m\u001b[0m\u001b[0m\n\u001b[0m\u001b[0;32m     16\u001b[0m \u001b[1;33m\u001b[0m\u001b[0m\n\u001b[0;32m     17\u001b[0m         \u001b[0mprint\u001b[0m\u001b[1;33m(\u001b[0m\u001b[0miters\u001b[0m\u001b[1;33m,\u001b[0m \u001b[0mmax_err\u001b[0m\u001b[1;33m(\u001b[0m\u001b[0mx_curr\u001b[0m\u001b[1;33m,\u001b[0m \u001b[0mcreate_x_vector\u001b[0m\u001b[1;33m(\u001b[0m\u001b[0mn\u001b[0m\u001b[1;33m)\u001b[0m\u001b[1;33m)\u001b[0m\u001b[1;33m)\u001b[0m\u001b[1;33m\u001b[0m\u001b[1;33m\u001b[0m\u001b[0m\n",
      "\u001b[1;31mKeyboardInterrupt\u001b[0m: "
     ]
    }
   ],
   "source": [
    "n_list = [1_000]\n",
    "start_vector_fns = {\n",
    "    'sq': lambda i: i ** 2,\n",
    "    'random': lambda i: random.random(),\n",
    "    'randint': lambda i: random.randint(-10e10, 10e10)\n",
    "}\n",
    "𝜌_list = [\n",
    "    1e-5,\n",
    "    1e-10,\n",
    "    1e-15\n",
    "]\n",
    "stop_criterion = solution_difference\n",
    "\n",
    "results = calculate(n_list, start_vector_fns, 𝜌_list, stop_criterion)"
   ]
  },
  {
   "cell_type": "code",
   "execution_count": null,
   "id": "132bae91",
   "metadata": {},
   "outputs": [],
   "source": [
    "results[1_000]['iters']"
   ]
  },
  {
   "cell_type": "code",
   "execution_count": null,
   "id": "fdcb9b12",
   "metadata": {},
   "outputs": [],
   "source": [
    "results[1_000]['start_vectors']"
   ]
  },
  {
   "cell_type": "code",
   "execution_count": null,
   "id": "98c4bd67",
   "metadata": {},
   "outputs": [],
   "source": [
    "results[1_000]['errors']"
   ]
  },
  {
   "cell_type": "code",
   "execution_count": null,
   "id": "12758094",
   "metadata": {},
   "outputs": [],
   "source": []
  }
 ],
 "metadata": {
  "kernelspec": {
   "display_name": "Python 3 (ipykernel)",
   "language": "python",
   "name": "python3"
  },
  "language_info": {
   "codemirror_mode": {
    "name": "ipython",
    "version": 3
   },
   "file_extension": ".py",
   "mimetype": "text/x-python",
   "name": "python",
   "nbconvert_exporter": "python",
   "pygments_lexer": "ipython3",
   "version": "3.10.0"
  }
 },
 "nbformat": 4,
 "nbformat_minor": 5
}
